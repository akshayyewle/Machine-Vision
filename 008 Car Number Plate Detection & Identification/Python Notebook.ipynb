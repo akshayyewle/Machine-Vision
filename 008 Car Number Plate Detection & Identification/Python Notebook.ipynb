{
 "cells": [
  {
   "cell_type": "markdown",
   "metadata": {},
   "source": [
    "# **Setup**\n",
    "\n",
    "* https://www.youtube.com/watch?v=0-4p_QgrdbE\n",
    "* https://github.com/nicknochnack/TFODCourse\n",
    "* https://www.kaggle.com/datasets/andrewmvd/car-plate-detection"
   ]
  },
  {
   "cell_type": "code",
   "execution_count": 6,
   "metadata": {},
   "outputs": [],
   "source": [
    "import os\n",
    "import pandas as pd \n",
    "import numpy as np \n",
    "import matplotlib.pyplot as plt\n",
    "%matplotlib inline\n",
    "import seaborn as sns\n",
    "import cv2 as cv\n",
    "\n",
    "from glob import glob"
   ]
  },
  {
   "cell_type": "markdown",
   "metadata": {},
   "source": [
    "## **Create Folders**"
   ]
  },
  {
   "cell_type": "code",
   "execution_count": 7,
   "metadata": {},
   "outputs": [
    {
     "name": "stdout",
     "output_type": "stream",
     "text": [
      "Folder Input Data already exists\n",
      "Folder Output Data already exists\n"
     ]
    }
   ],
   "source": [
    "Base_Directory = os.getcwd()\n",
    "\n",
    "# Required Folder Paths\n",
    "Folder_Input = 'Input Data'\n",
    "Folder_Output = 'Output Data'\n",
    "\n",
    "# Folder List\n",
    "Folder_List = [Folder_Input,Folder_Output]\n",
    "\n",
    "# Folder Creation Loop\n",
    "for folder in Folder_List:\n",
    "    if not os.path.exists(folder):\n",
    "        os.makedirs(folder)\n",
    "        print(f'Folder {folder} created')\n",
    "    else:\n",
    "        print(f'Folder {folder} already exists')"
   ]
  },
  {
   "cell_type": "markdown",
   "metadata": {},
   "source": [
    "# **Data Import**"
   ]
  },
  {
   "cell_type": "markdown",
   "metadata": {},
   "source": [
    "## **Download Dataset**"
   ]
  },
  {
   "cell_type": "code",
   "execution_count": 8,
   "metadata": {},
   "outputs": [
    {
     "name": "stdout",
     "output_type": "stream",
     "text": [
      "Downloading car-plate-detection.zip to c:\\Users\\aksha\\OneDrive\\06 Data Science & Analytics\\Github\\Machine-Vision\\08 Car Number Plate Detection & Identification\\Input Data\n",
      "\n"
     ]
    },
    {
     "name": "stderr",
     "output_type": "stream",
     "text": [
      "\n",
      "  0%|          | 0.00/203M [00:00<?, ?B/s]\n",
      "  0%|          | 1.00M/203M [00:00<01:41, 2.09MB/s]\n",
      "  1%|▏         | 3.00M/203M [00:00<00:35, 5.89MB/s]\n",
      "  2%|▏         | 5.00M/203M [00:00<00:24, 8.50MB/s]\n",
      "  3%|▎         | 7.00M/203M [00:00<00:19, 10.5MB/s]\n",
      "  4%|▍         | 9.00M/203M [00:01<00:19, 10.3MB/s]\n",
      "  5%|▌         | 11.0M/203M [00:01<00:18, 10.7MB/s]\n",
      "  6%|▋         | 13.0M/203M [00:01<00:16, 12.4MB/s]\n",
      "  7%|▋         | 15.0M/203M [00:01<00:15, 12.7MB/s]\n",
      "  8%|▊         | 17.0M/203M [00:01<00:16, 12.0MB/s]\n",
      "  9%|▉         | 19.0M/203M [00:01<00:15, 12.5MB/s]\n",
      " 10%|█         | 21.0M/203M [00:02<00:14, 13.4MB/s]\n",
      " 11%|█▏        | 23.0M/203M [00:02<00:15, 12.2MB/s]\n",
      " 12%|█▏        | 25.0M/203M [00:02<00:14, 13.3MB/s]\n",
      " 13%|█▎        | 27.0M/203M [00:02<00:14, 13.0MB/s]\n",
      " 14%|█▍        | 29.0M/203M [00:02<00:14, 12.7MB/s]\n",
      " 15%|█▌        | 31.0M/203M [00:02<00:14, 12.8MB/s]\n",
      " 16%|█▋        | 33.0M/203M [00:03<00:13, 12.9MB/s]\n",
      " 17%|█▋        | 35.0M/203M [00:03<00:13, 12.8MB/s]\n",
      " 18%|█▊        | 37.0M/203M [00:03<00:13, 12.7MB/s]\n",
      " 19%|█▉        | 39.0M/203M [00:03<00:13, 12.6MB/s]\n",
      " 20%|██        | 41.0M/203M [00:03<00:13, 12.5MB/s]\n",
      " 21%|██        | 43.0M/203M [00:03<00:14, 12.0MB/s]\n",
      " 22%|██▏       | 45.0M/203M [00:04<00:12, 13.4MB/s]\n",
      " 23%|██▎       | 47.0M/203M [00:04<00:12, 12.9MB/s]\n",
      " 24%|██▍       | 49.0M/203M [00:04<00:12, 12.9MB/s]\n",
      " 25%|██▌       | 51.0M/203M [00:04<00:12, 12.7MB/s]\n",
      " 26%|██▌       | 53.0M/203M [00:04<00:12, 13.0MB/s]\n",
      " 27%|██▋       | 55.0M/203M [00:04<00:12, 12.5MB/s]\n",
      " 28%|██▊       | 57.0M/203M [00:05<00:12, 12.3MB/s]\n",
      " 29%|██▉       | 59.0M/203M [00:05<00:12, 12.5MB/s]\n",
      " 30%|███       | 61.0M/203M [00:05<00:11, 13.1MB/s]\n",
      " 31%|███       | 63.0M/203M [00:05<00:12, 11.5MB/s]\n",
      " 32%|███▏      | 65.0M/203M [00:05<00:12, 11.8MB/s]\n",
      " 33%|███▎      | 67.0M/203M [00:05<00:11, 12.9MB/s]\n",
      " 34%|███▍      | 69.0M/203M [00:06<00:10, 13.0MB/s]\n",
      " 35%|███▍      | 71.0M/203M [00:06<00:10, 13.0MB/s]\n",
      " 36%|███▌      | 73.0M/203M [00:06<00:10, 12.9MB/s]\n",
      " 37%|███▋      | 75.0M/203M [00:06<00:10, 12.9MB/s]\n",
      " 38%|███▊      | 77.0M/203M [00:06<00:12, 11.0MB/s]\n",
      " 39%|███▉      | 79.0M/203M [00:06<00:10, 12.1MB/s]\n",
      " 40%|███▉      | 81.0M/203M [00:07<00:10, 12.5MB/s]\n",
      " 41%|████      | 83.0M/203M [00:07<00:09, 13.9MB/s]\n",
      " 42%|████▏     | 85.0M/203M [00:07<00:09, 13.4MB/s]\n",
      " 43%|████▎     | 87.0M/203M [00:07<00:09, 13.1MB/s]\n",
      " 44%|████▍     | 89.0M/203M [00:07<00:09, 13.0MB/s]\n",
      " 45%|████▍     | 91.0M/203M [00:07<00:08, 13.1MB/s]\n",
      " 46%|████▌     | 93.0M/203M [00:08<00:09, 12.8MB/s]\n",
      " 47%|████▋     | 95.0M/203M [00:08<00:09, 11.9MB/s]\n",
      " 48%|████▊     | 97.0M/203M [00:08<00:08, 13.1MB/s]\n",
      " 49%|████▉     | 99.0M/203M [00:08<00:08, 12.8MB/s]\n",
      " 50%|████▉     | 101M/203M [00:08<00:08, 13.1MB/s] \n",
      " 51%|█████     | 103M/203M [00:08<00:08, 13.0MB/s]\n",
      " 52%|█████▏    | 105M/203M [00:09<00:08, 12.5MB/s]\n",
      " 53%|█████▎    | 107M/203M [00:09<00:08, 12.1MB/s]\n",
      " 54%|█████▎    | 109M/203M [00:09<00:07, 13.0MB/s]\n",
      " 55%|█████▍    | 111M/203M [00:09<00:07, 12.8MB/s]\n",
      " 56%|█████▌    | 113M/203M [00:09<00:07, 13.0MB/s]\n",
      " 57%|█████▋    | 115M/203M [00:09<00:07, 12.9MB/s]\n",
      " 58%|█████▊    | 117M/203M [00:10<00:07, 12.4MB/s]\n",
      " 59%|█████▊    | 119M/203M [00:10<00:06, 12.7MB/s]\n",
      " 60%|█████▉    | 121M/203M [00:10<00:06, 12.5MB/s]\n",
      " 61%|██████    | 123M/203M [00:10<00:06, 13.1MB/s]\n",
      " 62%|██████▏   | 125M/203M [00:10<00:06, 13.0MB/s]\n",
      " 63%|██████▎   | 127M/203M [00:10<00:06, 12.9MB/s]\n",
      " 64%|██████▎   | 129M/203M [00:10<00:06, 12.7MB/s]\n",
      " 65%|██████▍   | 131M/203M [00:11<00:05, 12.7MB/s]\n",
      " 66%|██████▌   | 133M/203M [00:11<00:06, 11.9MB/s]\n",
      " 66%|██████▋   | 135M/203M [00:11<00:05, 12.3MB/s]\n",
      " 67%|██████▋   | 137M/203M [00:11<00:05, 12.3MB/s]\n",
      " 68%|██████▊   | 139M/203M [00:11<00:05, 13.4MB/s]\n",
      " 69%|██████▉   | 141M/203M [00:11<00:04, 13.0MB/s]\n",
      " 70%|███████   | 143M/203M [00:12<00:04, 13.2MB/s]\n",
      " 71%|███████▏  | 145M/203M [00:12<00:04, 12.8MB/s]\n",
      " 72%|███████▏  | 147M/203M [00:12<00:04, 12.1MB/s]\n",
      " 73%|███████▎  | 149M/203M [00:12<00:04, 13.0MB/s]\n",
      " 74%|███████▍  | 151M/203M [00:12<00:04, 13.0MB/s]\n",
      " 75%|███████▌  | 153M/203M [00:12<00:04, 12.9MB/s]\n",
      " 76%|███████▋  | 155M/203M [00:13<00:03, 13.0MB/s]\n",
      " 77%|███████▋  | 157M/203M [00:13<00:03, 12.8MB/s]\n",
      " 78%|███████▊  | 159M/203M [00:13<00:03, 12.3MB/s]\n",
      " 79%|███████▉  | 161M/203M [00:13<00:03, 13.0MB/s]\n",
      " 80%|████████  | 163M/203M [00:13<00:03, 12.7MB/s]\n",
      " 81%|████████▏ | 165M/203M [00:13<00:03, 12.9MB/s]\n",
      " 82%|████████▏ | 167M/203M [00:14<00:02, 12.8MB/s]\n",
      " 83%|████████▎ | 169M/203M [00:14<00:02, 12.7MB/s]\n",
      " 84%|████████▍ | 171M/203M [00:14<00:02, 12.7MB/s]\n",
      " 85%|████████▌ | 173M/203M [00:14<00:02, 12.7MB/s]\n",
      " 86%|████████▌ | 175M/203M [00:14<00:02, 12.7MB/s]\n",
      " 87%|████████▋ | 177M/203M [00:14<00:02, 12.5MB/s]\n",
      " 88%|████████▊ | 179M/203M [00:15<00:01, 12.9MB/s]\n",
      " 89%|████████▉ | 181M/203M [00:15<00:01, 12.8MB/s]\n",
      " 90%|█████████ | 183M/203M [00:15<00:01, 12.6MB/s]\n",
      " 91%|█████████ | 185M/203M [00:15<00:01, 12.4MB/s]\n",
      " 92%|█████████▏| 187M/203M [00:15<00:01, 12.8MB/s]\n",
      " 93%|█████████▎| 189M/203M [00:15<00:01, 12.8MB/s]\n",
      " 94%|█████████▍| 191M/203M [00:16<00:00, 12.8MB/s]\n",
      " 95%|█████████▌| 193M/203M [00:16<00:00, 12.6MB/s]\n",
      " 96%|█████████▌| 195M/203M [00:16<00:00, 12.3MB/s]\n",
      " 97%|█████████▋| 197M/203M [00:16<00:00, 12.8MB/s]\n",
      " 98%|█████████▊| 199M/203M [00:16<00:00, 12.6MB/s]\n",
      " 99%|█████████▉| 201M/203M [00:17<00:00, 10.9MB/s]\n",
      "100%|██████████| 203M/203M [00:17<00:00, 12.4MB/s]\n"
     ]
    }
   ],
   "source": [
    "os.chdir('Input Data')\n",
    "!kaggle datasets download -d andrewmvd/car-plate-detection --unzip --\n",
    "os.chdir('..')"
   ]
  },
  {
   "cell_type": "markdown",
   "metadata": {},
   "source": [
    "## **Read Data**"
   ]
  },
  {
   "cell_type": "code",
   "execution_count": 25,
   "metadata": {},
   "outputs": [
    {
     "ename": "AttributeError",
     "evalue": "'function' object has no attribute 'glob'",
     "output_type": "error",
     "traceback": [
      "\u001b[1;31m---------------------------------------------------------------------------\u001b[0m",
      "\u001b[1;31mAttributeError\u001b[0m                            Traceback (most recent call last)",
      "Cell \u001b[1;32mIn[25], line 1\u001b[0m\n\u001b[1;32m----> 1\u001b[0m data \u001b[38;5;241m=\u001b[39m \u001b[43mglob\u001b[49m\u001b[38;5;241;43m.\u001b[39;49m\u001b[43mglob\u001b[49m(\u001b[38;5;124mf\u001b[39m\u001b[38;5;124m\"\u001b[39m\u001b[38;5;132;01m{\u001b[39;00mFolder_Input\u001b[38;5;132;01m}\u001b[39;00m\u001b[38;5;124m/*.jpg\u001b[39m\u001b[38;5;124m\"\u001b[39m)\n",
      "\u001b[1;31mAttributeError\u001b[0m: 'function' object has no attribute 'glob'"
     ]
    }
   ],
   "source": [
    "data = glob.glob(f\"{Folder_Input}/*.jpg\")"
   ]
  }
 ],
 "metadata": {
  "kernelspec": {
   "display_name": "Python 3",
   "language": "python",
   "name": "python3"
  },
  "language_info": {
   "codemirror_mode": {
    "name": "ipython",
    "version": 3
   },
   "file_extension": ".py",
   "mimetype": "text/x-python",
   "name": "python",
   "nbconvert_exporter": "python",
   "pygments_lexer": "ipython3",
   "version": "3.11.8"
  }
 },
 "nbformat": 4,
 "nbformat_minor": 2
}
