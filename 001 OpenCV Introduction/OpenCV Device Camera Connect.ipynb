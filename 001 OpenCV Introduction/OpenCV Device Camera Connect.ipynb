{
 "cells": [
  {
   "cell_type": "markdown",
   "metadata": {},
   "source": [
    "# **Get List Of Camera Devices**"
   ]
  },
  {
   "cell_type": "code",
   "execution_count": 5,
   "metadata": {},
   "outputs": [],
   "source": [
    "import cv2\n",
    "\n",
    "def list_cameras():\n",
    "    \"\"\"\n",
    "    Detect available cameras and return a list of their indices and properties.\n",
    "    \"\"\"\n",
    "    camera_index = 0\n",
    "    available_cameras = []\n",
    "\n",
    "    while True:\n",
    "        cap = cv2.VideoCapture(camera_index)\n",
    "        if not cap.isOpened():\n",
    "            break\n",
    "\n",
    "        is_reading, _ = cap.read()\n",
    "        if is_reading:\n",
    "            width = int(cap.get(cv2.CAP_PROP_FRAME_WIDTH))\n",
    "            height = int(cap.get(cv2.CAP_PROP_FRAME_HEIGHT))\n",
    "            available_cameras.append({\n",
    "                'index': camera_index,\n",
    "                'resolution': f\"{width}x{height}\",\n",
    "                'functional': True\n",
    "            })\n",
    "        else:\n",
    "            available_cameras.append({\n",
    "                'index': camera_index,\n",
    "                'functional': False\n",
    "            })\n",
    "\n",
    "        camera_index += 1\n",
    "\n",
    "    return available_cameras"
   ]
  },
  {
   "cell_type": "code",
   "execution_count": 6,
   "metadata": {},
   "outputs": [
    {
     "name": "stdout",
     "output_type": "stream",
     "text": [
      "Camera 0 - Resolution: 640x480, Functional: True\n",
      "Camera 1 - Resolution: 1280x720, Functional: True\n",
      "Camera 2 - Resolution: 1024x768, Functional: True\n"
     ]
    }
   ],
   "source": [
    "# Get the list of available cameras\n",
    "camera_list = list_cameras()\n",
    "\n",
    "# Print camera information\n",
    "for camera in camera_list:\n",
    "    print(f\"Camera {camera['index']} - Resolution: {camera.get('resolution', 'N/A')}, Functional: {camera['functional']}\")\n",
    "\n",
    "# You can now choose a camera index to use with cv2.VideoCapture(index)"
   ]
  },
  {
   "cell_type": "markdown",
   "metadata": {},
   "source": [
    "# **Connect To Camera**"
   ]
  },
  {
   "cell_type": "code",
   "execution_count": 7,
   "metadata": {},
   "outputs": [],
   "source": [
    "import cv2\n",
    "\n",
    "# Create a VideoCapture object\n",
    "cap = cv2.VideoCapture(1)\n",
    "\n",
    "# Check if camera opened successfully\n",
    "if not cap.isOpened():\n",
    "    print(\"Unable to open camera\")\n",
    "\n",
    "# Loop until the user hits the 'q' key on their keyboard\n",
    "while(True):\n",
    "    # Capture frame-by-frame\n",
    "    ret, frame = cap.read()\n",
    "    if ret == True:\n",
    "        # Display the resulting frame\n",
    "        cv2.imshow('Frame', frame)\n",
    "\n",
    "        # Quit if 'q' is pressed\n",
    "        if cv2.waitKey(1) & 0xFF == ord('q'):\n",
    "            break\n",
    "    else:\n",
    "        break\n",
    "\n",
    "# When everything done, release the VideoCapture and destroy windows\n",
    "cap.release()\n",
    "cv2.destroyAllWindows()"
   ]
  }
 ],
 "metadata": {
  "kernelspec": {
   "display_name": "Python 3",
   "language": "python",
   "name": "python3"
  },
  "language_info": {
   "codemirror_mode": {
    "name": "ipython",
    "version": 3
   },
   "file_extension": ".py",
   "mimetype": "text/x-python",
   "name": "python",
   "nbconvert_exporter": "python",
   "pygments_lexer": "ipython3",
   "version": "3.12.3"
  }
 },
 "nbformat": 4,
 "nbformat_minor": 2
}
