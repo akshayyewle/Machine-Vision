{
 "cells": [
  {
   "cell_type": "markdown",
   "metadata": {},
   "source": [
    "# **Setup**"
   ]
  },
  {
   "cell_type": "code",
   "execution_count": 4,
   "metadata": {},
   "outputs": [],
   "source": [
    "import os\n",
    "import time\n",
    "from IPython.display import Image, clear_output, display\n",
    "\n",
    "import numpy as np\n",
    "import pandas as pd\n",
    "import matplotlib.pyplot as plt\n",
    "\n",
    "import tensorflow as tf\n",
    "from tensorflow.keras.models import Sequential\n",
    "from tensorflow.keras.layers import Dense, Dropout, Flatten\n",
    "\n",
    "import glob\n",
    "import PIL\n",
    "import imageio"
   ]
  },
  {
   "cell_type": "markdown",
   "metadata": {},
   "source": [
    "# **Data Import**"
   ]
  },
  {
   "cell_type": "code",
   "execution_count": 8,
   "metadata": {},
   "outputs": [
    {
     "name": "stdout",
     "output_type": "stream",
     "text": [
      "<class 'tuple'>\n"
     ]
    },
    {
     "data": {
      "text/plain": [
       "2"
      ]
     },
     "execution_count": 8,
     "metadata": {},
     "output_type": "execute_result"
    }
   ],
   "source": [
    "MNIST_Dataset = tf.keras.datasets.mnist.load_data()\n",
    "\n",
    "print(type(MNIST_Dataset))\n",
    "len(MNIST_Dataset)"
   ]
  },
  {
   "cell_type": "code",
   "execution_count": 10,
   "metadata": {},
   "outputs": [
    {
     "name": "stdout",
     "output_type": "stream",
     "text": [
      "(60000, 28, 28)\n",
      "(60000,)\n"
     ]
    }
   ],
   "source": [
    "#Training Dataset\n",
    "(Train_Data,Train_Label),(_,_) = MNIST_Dataset\n",
    "\n",
    "print(Train_Data.shape)\n",
    "print(Train_Label.shape)"
   ]
  },
  {
   "cell_type": "markdown",
   "metadata": {},
   "source": [
    "# **Data Pre-Processing**"
   ]
  },
  {
   "cell_type": "code",
   "execution_count": 11,
   "metadata": {},
   "outputs": [],
   "source": [
    "Buffer_Size = 60000\n",
    "Batch_Size = 256"
   ]
  },
  {
   "cell_type": "code",
   "execution_count": 12,
   "metadata": {},
   "outputs": [
    {
     "name": "stdout",
     "output_type": "stream",
     "text": [
      "<_BatchDataset element_spec=TensorSpec(shape=(None, 28, 28), dtype=tf.uint8, name=None)>\n"
     ]
    }
   ],
   "source": [
    "Train_Dataset = tf.data.Dataset.from_tensor_slices(Train_Data).shuffle(Buffer_Size).batch(Batch_Size)\n",
    "\n",
    "print(Train_Dataset)"
   ]
  },
  {
   "cell_type": "markdown",
   "metadata": {},
   "source": [
    "# **Model Development**"
   ]
  },
  {
   "cell_type": "code",
   "execution_count": 15,
   "metadata": {},
   "outputs": [],
   "source": [
    "from keras.layers import InputLayer, Reshape, Resizing, Rescaling\n",
    "from keras.layers import Flatten, Dense, Dropout, BatchNormalization, Conv2D, MaxPooling2D"
   ]
  },
  {
   "cell_type": "markdown",
   "metadata": {},
   "source": [
    "## **Input Noise**"
   ]
  },
  {
   "cell_type": "code",
   "execution_count": 20,
   "metadata": {},
   "outputs": [
    {
     "name": "stdout",
     "output_type": "stream",
     "text": [
      "(1, 100)\n",
      "tf.Tensor(\n",
      "[-0.8015458  -0.20644385 -0.70094305  0.87597644  1.161392    1.0541829\n",
      " -0.8435809  -2.1029506  -0.91334087  0.72178596 -0.0327912  -0.00990458\n",
      "  1.0413558  -0.31789196  0.29362476 -0.74415946  0.16519788  0.01597964\n",
      "  0.9036781  -0.66750526 -0.12630595 -1.6148984   0.5033955  -0.09605936\n",
      "  0.54771066 -0.16221347 -0.76901287 -1.0533017  -0.75561666 -0.7149271\n",
      " -0.11846802 -0.90345025 -0.07656163 -0.52392876 -0.13324268  0.9235466\n",
      " -0.34788617  0.23904446  1.7143008  -1.6528175   0.2863008  -1.1685065\n",
      " -0.5480846   0.49819604  2.0695612   0.18611813  0.05498476  0.27462274\n",
      " -0.1079207  -0.04608987 -0.30688623  1.2716203  -0.28646198  0.14090708\n",
      "  0.5465452   1.9234172  -1.3250029  -1.6554115   0.62450045  0.543117\n",
      " -2.1249986   0.2477115   1.0591846  -1.2665805  -0.4140973  -0.96835023\n",
      "  0.24211545 -2.327863   -1.1865361  -0.637246    0.9063649   0.05770858\n",
      "  1.1520836   0.4652149  -0.34954756  0.8571574   0.27782008  1.5991822\n",
      " -0.22967169 -1.317193   -0.4623155   0.79183084 -0.11983541 -1.2830489\n",
      "  1.3548468  -0.09663225  2.1965053   0.92831767 -1.4640235  -2.5322304\n",
      " -0.01201739  1.2414149   0.85858107 -1.860807    0.27076697 -2.9073896\n",
      "  0.20764837 -2.1720483   1.3242868   0.04487225], shape=(100,), dtype=float32)\n"
     ]
    }
   ],
   "source": [
    "Noise = tf.random.normal(shape=[1,100])\n",
    "\n",
    "print(Noise.shape)\n",
    "print(Noise[0])"
   ]
  },
  {
   "cell_type": "markdown",
   "metadata": {},
   "source": [
    "## **Generator Model**"
   ]
  },
  {
   "cell_type": "code",
   "execution_count": null,
   "metadata": {},
   "outputs": [],
   "source": [
    "Gen_Model = Sequential()\n",
    "\n",
    "Gen_Model.add(InputLayer(input_shape=(100,)))\n",
    "Gen_Model.add(Dense(100, activation='relu'))\n",
    "Gen_Model.add(BatchNormalization())\n",
    "\n"
   ]
  },
  {
   "cell_type": "markdown",
   "metadata": {},
   "source": [
    "# **Reference**\n",
    "\n",
    "* https://youtu.be/jisd9A83wzk?si=jBlBNxhT4fxHdAO8"
   ]
  }
 ],
 "metadata": {
  "kernelspec": {
   "display_name": "Python 3",
   "language": "python",
   "name": "python3"
  },
  "language_info": {
   "codemirror_mode": {
    "name": "ipython",
    "version": 3
   },
   "file_extension": ".py",
   "mimetype": "text/x-python",
   "name": "python",
   "nbconvert_exporter": "python",
   "pygments_lexer": "ipython3",
   "version": "3.12.3"
  }
 },
 "nbformat": 4,
 "nbformat_minor": 2
}
