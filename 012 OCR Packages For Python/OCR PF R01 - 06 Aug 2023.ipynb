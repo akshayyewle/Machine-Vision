{
 "cells": [
  {
   "cell_type": "markdown",
   "metadata": {},
   "source": [
    "# **Set Up**\n",
    "\n",
    "* https://towardsdatascience.com/top-5-python-libraries-for-extracting-text-from-images-c29863b2f3d"
   ]
  },
  {
   "cell_type": "code",
   "execution_count": 20,
   "metadata": {},
   "outputs": [],
   "source": [
    "import pandas as pd \n",
    "import numpy as np \n",
    "import seaborn as sns\n",
    "\n",
    "# OCR Packages\n",
    "import pytesseract\n",
    "from pytesseract import Output\n",
    "from PIL import Image\n",
    "import cv2"
   ]
  },
  {
   "cell_type": "code",
   "execution_count": 9,
   "metadata": {},
   "outputs": [],
   "source": [
    "import PIL"
   ]
  },
  {
   "cell_type": "markdown",
   "metadata": {},
   "source": [
    "# **01 PyTesseract**"
   ]
  },
  {
   "cell_type": "code",
   "execution_count": 7,
   "metadata": {},
   "outputs": [
    {
     "name": "stdout",
     "output_type": "stream",
     "text": [
      "Collecting pytesseract\n",
      "  Using cached pytesseract-0.3.10-py3-none-any.whl (14 kB)\n",
      "Requirement already satisfied: packaging>=21.3 in /Users/akshayyewle/Library/Python/3.11/lib/python/site-packages (from pytesseract) (23.0)\n",
      "Requirement already satisfied: Pillow>=8.0.0 in /Library/Frameworks/Python.framework/Versions/3.11/lib/python3.11/site-packages (from pytesseract) (10.0.0)\n",
      "Installing collected packages: pytesseract\n",
      "Successfully installed pytesseract-0.3.10\n"
     ]
    }
   ],
   "source": [
    "# !pip install pytesseract"
   ]
  },
  {
   "cell_type": "code",
   "execution_count": 11,
   "metadata": {},
   "outputs": [
    {
     "ename": "TesseractNotFoundError",
     "evalue": "tesseract is not installed or it's not in your PATH. See README file for more information.",
     "output_type": "error",
     "traceback": [
      "\u001b[0;31m---------------------------------------------------------------------------\u001b[0m",
      "\u001b[0;31mFileNotFoundError\u001b[0m                         Traceback (most recent call last)",
      "File \u001b[0;32m/Library/Frameworks/Python.framework/Versions/3.11/lib/python3.11/site-packages/pytesseract/pytesseract.py:255\u001b[0m, in \u001b[0;36mrun_tesseract\u001b[0;34m(input_filename, output_filename_base, extension, lang, config, nice, timeout)\u001b[0m\n\u001b[1;32m    254\u001b[0m \u001b[39mtry\u001b[39;00m:\n\u001b[0;32m--> 255\u001b[0m     proc \u001b[39m=\u001b[39m subprocess\u001b[39m.\u001b[39;49mPopen(cmd_args, \u001b[39m*\u001b[39;49m\u001b[39m*\u001b[39;49msubprocess_args())\n\u001b[1;32m    256\u001b[0m \u001b[39mexcept\u001b[39;00m \u001b[39mOSError\u001b[39;00m \u001b[39mas\u001b[39;00m e:\n",
      "File \u001b[0;32m/Library/Frameworks/Python.framework/Versions/3.11/lib/python3.11/subprocess.py:1026\u001b[0m, in \u001b[0;36mPopen.__init__\u001b[0;34m(self, args, bufsize, executable, stdin, stdout, stderr, preexec_fn, close_fds, shell, cwd, env, universal_newlines, startupinfo, creationflags, restore_signals, start_new_session, pass_fds, user, group, extra_groups, encoding, errors, text, umask, pipesize, process_group)\u001b[0m\n\u001b[1;32m   1023\u001b[0m             \u001b[39mself\u001b[39m\u001b[39m.\u001b[39mstderr \u001b[39m=\u001b[39m io\u001b[39m.\u001b[39mTextIOWrapper(\u001b[39mself\u001b[39m\u001b[39m.\u001b[39mstderr,\n\u001b[1;32m   1024\u001b[0m                     encoding\u001b[39m=\u001b[39mencoding, errors\u001b[39m=\u001b[39merrors)\n\u001b[0;32m-> 1026\u001b[0m     \u001b[39mself\u001b[39;49m\u001b[39m.\u001b[39;49m_execute_child(args, executable, preexec_fn, close_fds,\n\u001b[1;32m   1027\u001b[0m                         pass_fds, cwd, env,\n\u001b[1;32m   1028\u001b[0m                         startupinfo, creationflags, shell,\n\u001b[1;32m   1029\u001b[0m                         p2cread, p2cwrite,\n\u001b[1;32m   1030\u001b[0m                         c2pread, c2pwrite,\n\u001b[1;32m   1031\u001b[0m                         errread, errwrite,\n\u001b[1;32m   1032\u001b[0m                         restore_signals,\n\u001b[1;32m   1033\u001b[0m                         gid, gids, uid, umask,\n\u001b[1;32m   1034\u001b[0m                         start_new_session, process_group)\n\u001b[1;32m   1035\u001b[0m \u001b[39mexcept\u001b[39;00m:\n\u001b[1;32m   1036\u001b[0m     \u001b[39m# Cleanup if the child failed starting.\u001b[39;00m\n",
      "File \u001b[0;32m/Library/Frameworks/Python.framework/Versions/3.11/lib/python3.11/subprocess.py:1950\u001b[0m, in \u001b[0;36mPopen._execute_child\u001b[0;34m(self, args, executable, preexec_fn, close_fds, pass_fds, cwd, env, startupinfo, creationflags, shell, p2cread, p2cwrite, c2pread, c2pwrite, errread, errwrite, restore_signals, gid, gids, uid, umask, start_new_session, process_group)\u001b[0m\n\u001b[1;32m   1949\u001b[0m         err_msg \u001b[39m=\u001b[39m os\u001b[39m.\u001b[39mstrerror(errno_num)\n\u001b[0;32m-> 1950\u001b[0m     \u001b[39mraise\u001b[39;00m child_exception_type(errno_num, err_msg, err_filename)\n\u001b[1;32m   1951\u001b[0m \u001b[39mraise\u001b[39;00m child_exception_type(err_msg)\n",
      "\u001b[0;31mFileNotFoundError\u001b[0m: [Errno 2] No such file or directory: 'tesseract'",
      "\nDuring handling of the above exception, another exception occurred:\n",
      "\u001b[0;31mTesseractNotFoundError\u001b[0m                    Traceback (most recent call last)",
      "Cell \u001b[0;32mIn[11], line 1\u001b[0m\n\u001b[0;32m----> 1\u001b[0m pytesseract\u001b[39m.\u001b[39;49mimage_to_string(\u001b[39m'\u001b[39;49m\u001b[39mImage_01.jpg\u001b[39;49m\u001b[39m'\u001b[39;49m,lang\u001b[39m=\u001b[39;49m\u001b[39m'\u001b[39;49m\u001b[39meng\u001b[39;49m\u001b[39m'\u001b[39;49m)\n",
      "File \u001b[0;32m/Library/Frameworks/Python.framework/Versions/3.11/lib/python3.11/site-packages/pytesseract/pytesseract.py:423\u001b[0m, in \u001b[0;36mimage_to_string\u001b[0;34m(image, lang, config, nice, output_type, timeout)\u001b[0m\n\u001b[1;32m    418\u001b[0m \u001b[39m\u001b[39m\u001b[39m\"\"\"\u001b[39;00m\n\u001b[1;32m    419\u001b[0m \u001b[39mReturns the result of a Tesseract OCR run on the provided image to string\u001b[39;00m\n\u001b[1;32m    420\u001b[0m \u001b[39m\"\"\"\u001b[39;00m\n\u001b[1;32m    421\u001b[0m args \u001b[39m=\u001b[39m [image, \u001b[39m'\u001b[39m\u001b[39mtxt\u001b[39m\u001b[39m'\u001b[39m, lang, config, nice, timeout]\n\u001b[0;32m--> 423\u001b[0m \u001b[39mreturn\u001b[39;00m {\n\u001b[1;32m    424\u001b[0m     Output\u001b[39m.\u001b[39;49mBYTES: \u001b[39mlambda\u001b[39;49;00m: run_and_get_output(\u001b[39m*\u001b[39;49m(args \u001b[39m+\u001b[39;49m [\u001b[39mTrue\u001b[39;49;00m])),\n\u001b[1;32m    425\u001b[0m     Output\u001b[39m.\u001b[39;49mDICT: \u001b[39mlambda\u001b[39;49;00m: {\u001b[39m'\u001b[39;49m\u001b[39mtext\u001b[39;49m\u001b[39m'\u001b[39;49m: run_and_get_output(\u001b[39m*\u001b[39;49margs)},\n\u001b[1;32m    426\u001b[0m     Output\u001b[39m.\u001b[39;49mSTRING: \u001b[39mlambda\u001b[39;49;00m: run_and_get_output(\u001b[39m*\u001b[39;49margs),\n\u001b[1;32m    427\u001b[0m }[output_type]()\n",
      "File \u001b[0;32m/Library/Frameworks/Python.framework/Versions/3.11/lib/python3.11/site-packages/pytesseract/pytesseract.py:426\u001b[0m, in \u001b[0;36mimage_to_string.<locals>.<lambda>\u001b[0;34m()\u001b[0m\n\u001b[1;32m    418\u001b[0m \u001b[39m\u001b[39m\u001b[39m\"\"\"\u001b[39;00m\n\u001b[1;32m    419\u001b[0m \u001b[39mReturns the result of a Tesseract OCR run on the provided image to string\u001b[39;00m\n\u001b[1;32m    420\u001b[0m \u001b[39m\"\"\"\u001b[39;00m\n\u001b[1;32m    421\u001b[0m args \u001b[39m=\u001b[39m [image, \u001b[39m'\u001b[39m\u001b[39mtxt\u001b[39m\u001b[39m'\u001b[39m, lang, config, nice, timeout]\n\u001b[1;32m    423\u001b[0m \u001b[39mreturn\u001b[39;00m {\n\u001b[1;32m    424\u001b[0m     Output\u001b[39m.\u001b[39mBYTES: \u001b[39mlambda\u001b[39;00m: run_and_get_output(\u001b[39m*\u001b[39m(args \u001b[39m+\u001b[39m [\u001b[39mTrue\u001b[39;00m])),\n\u001b[1;32m    425\u001b[0m     Output\u001b[39m.\u001b[39mDICT: \u001b[39mlambda\u001b[39;00m: {\u001b[39m'\u001b[39m\u001b[39mtext\u001b[39m\u001b[39m'\u001b[39m: run_and_get_output(\u001b[39m*\u001b[39margs)},\n\u001b[0;32m--> 426\u001b[0m     Output\u001b[39m.\u001b[39mSTRING: \u001b[39mlambda\u001b[39;00m: run_and_get_output(\u001b[39m*\u001b[39;49margs),\n\u001b[1;32m    427\u001b[0m }[output_type]()\n",
      "File \u001b[0;32m/Library/Frameworks/Python.framework/Versions/3.11/lib/python3.11/site-packages/pytesseract/pytesseract.py:288\u001b[0m, in \u001b[0;36mrun_and_get_output\u001b[0;34m(image, extension, lang, config, nice, timeout, return_bytes)\u001b[0m\n\u001b[1;32m    277\u001b[0m \u001b[39mwith\u001b[39;00m save(image) \u001b[39mas\u001b[39;00m (temp_name, input_filename):\n\u001b[1;32m    278\u001b[0m     kwargs \u001b[39m=\u001b[39m {\n\u001b[1;32m    279\u001b[0m         \u001b[39m'\u001b[39m\u001b[39minput_filename\u001b[39m\u001b[39m'\u001b[39m: input_filename,\n\u001b[1;32m    280\u001b[0m         \u001b[39m'\u001b[39m\u001b[39moutput_filename_base\u001b[39m\u001b[39m'\u001b[39m: temp_name,\n\u001b[0;32m   (...)\u001b[0m\n\u001b[1;32m    285\u001b[0m         \u001b[39m'\u001b[39m\u001b[39mtimeout\u001b[39m\u001b[39m'\u001b[39m: timeout,\n\u001b[1;32m    286\u001b[0m     }\n\u001b[0;32m--> 288\u001b[0m     run_tesseract(\u001b[39m*\u001b[39;49m\u001b[39m*\u001b[39;49mkwargs)\n\u001b[1;32m    289\u001b[0m     filename \u001b[39m=\u001b[39m \u001b[39mf\u001b[39m\u001b[39m\"\u001b[39m\u001b[39m{\u001b[39;00mkwargs[\u001b[39m'\u001b[39m\u001b[39moutput_filename_base\u001b[39m\u001b[39m'\u001b[39m]\u001b[39m}\u001b[39;00m\u001b[39m{\u001b[39;00mextsep\u001b[39m}\u001b[39;00m\u001b[39m{\u001b[39;00mextension\u001b[39m}\u001b[39;00m\u001b[39m\"\u001b[39m\n\u001b[1;32m    290\u001b[0m     \u001b[39mwith\u001b[39;00m \u001b[39mopen\u001b[39m(filename, \u001b[39m'\u001b[39m\u001b[39mrb\u001b[39m\u001b[39m'\u001b[39m) \u001b[39mas\u001b[39;00m output_file:\n",
      "File \u001b[0;32m/Library/Frameworks/Python.framework/Versions/3.11/lib/python3.11/site-packages/pytesseract/pytesseract.py:260\u001b[0m, in \u001b[0;36mrun_tesseract\u001b[0;34m(input_filename, output_filename_base, extension, lang, config, nice, timeout)\u001b[0m\n\u001b[1;32m    258\u001b[0m         \u001b[39mraise\u001b[39;00m\n\u001b[1;32m    259\u001b[0m     \u001b[39melse\u001b[39;00m:\n\u001b[0;32m--> 260\u001b[0m         \u001b[39mraise\u001b[39;00m TesseractNotFoundError()\n\u001b[1;32m    262\u001b[0m \u001b[39mwith\u001b[39;00m timeout_manager(proc, timeout) \u001b[39mas\u001b[39;00m error_string:\n\u001b[1;32m    263\u001b[0m     \u001b[39mif\u001b[39;00m proc\u001b[39m.\u001b[39mreturncode:\n",
      "\u001b[0;31mTesseractNotFoundError\u001b[0m: tesseract is not installed or it's not in your PATH. See README file for more information."
     ]
    }
   ],
   "source": [
    "pytesseract.image_to_string('Image_01.jpg',lang='eng')"
   ]
  },
  {
   "cell_type": "markdown",
   "metadata": {},
   "source": [
    "# **02 EasyOCR**"
   ]
  },
  {
   "cell_type": "code",
   "execution_count": 14,
   "metadata": {},
   "outputs": [],
   "source": [
    "# !pip install easyocr"
   ]
  },
  {
   "cell_type": "code",
   "execution_count": 15,
   "metadata": {},
   "outputs": [],
   "source": [
    "import easyocr"
   ]
  },
  {
   "cell_type": "code",
   "execution_count": 18,
   "metadata": {},
   "outputs": [
    {
     "ename": "AttributeError",
     "evalue": "module 'PIL.Image' has no attribute 'ANTIALIAS'",
     "output_type": "error",
     "traceback": [
      "\u001b[0;31m---------------------------------------------------------------------------\u001b[0m",
      "\u001b[0;31mAttributeError\u001b[0m                            Traceback (most recent call last)",
      "Cell \u001b[0;32mIn[18], line 2\u001b[0m\n\u001b[1;32m      1\u001b[0m reader \u001b[39m=\u001b[39m easyocr\u001b[39m.\u001b[39mReader([\u001b[39m'\u001b[39m\u001b[39men\u001b[39m\u001b[39m'\u001b[39m])\n\u001b[0;32m----> 2\u001b[0m extract_info \u001b[39m=\u001b[39m reader\u001b[39m.\u001b[39;49mreadtext(\u001b[39m'\u001b[39;49m\u001b[39mImage_01.jpg\u001b[39;49m\u001b[39m'\u001b[39;49m)\n",
      "File \u001b[0;32m/Library/Frameworks/Python.framework/Versions/3.11/lib/python3.11/site-packages/easyocr/easyocr.py:464\u001b[0m, in \u001b[0;36mReader.readtext\u001b[0;34m(self, image, decoder, beamWidth, batch_size, workers, allowlist, blocklist, detail, rotation_info, paragraph, min_size, contrast_ths, adjust_contrast, filter_ths, text_threshold, low_text, link_threshold, canvas_size, mag_ratio, slope_ths, ycenter_ths, height_ths, width_ths, y_ths, x_ths, add_margin, threshold, bbox_min_score, bbox_min_size, max_candidates, output_format)\u001b[0m\n\u001b[1;32m    462\u001b[0m \u001b[39m# get the 1st result from hor & free list as self.detect returns a list of depth 3\u001b[39;00m\n\u001b[1;32m    463\u001b[0m horizontal_list, free_list \u001b[39m=\u001b[39m horizontal_list[\u001b[39m0\u001b[39m], free_list[\u001b[39m0\u001b[39m]\n\u001b[0;32m--> 464\u001b[0m result \u001b[39m=\u001b[39m \u001b[39mself\u001b[39;49m\u001b[39m.\u001b[39;49mrecognize(img_cv_grey, horizontal_list, free_list,\\\n\u001b[1;32m    465\u001b[0m                         decoder, beamWidth, batch_size,\\\n\u001b[1;32m    466\u001b[0m                         workers, allowlist, blocklist, detail, rotation_info,\\\n\u001b[1;32m    467\u001b[0m                         paragraph, contrast_ths, adjust_contrast,\\\n\u001b[1;32m    468\u001b[0m                         filter_ths, y_ths, x_ths, \u001b[39mFalse\u001b[39;49;00m, output_format)\n\u001b[1;32m    470\u001b[0m \u001b[39mreturn\u001b[39;00m result\n",
      "File \u001b[0;32m/Library/Frameworks/Python.framework/Versions/3.11/lib/python3.11/site-packages/easyocr/easyocr.py:383\u001b[0m, in \u001b[0;36mReader.recognize\u001b[0;34m(self, img_cv_grey, horizontal_list, free_list, decoder, beamWidth, batch_size, workers, allowlist, blocklist, detail, rotation_info, paragraph, contrast_ths, adjust_contrast, filter_ths, y_ths, x_ths, reformat, output_format)\u001b[0m\n\u001b[1;32m    381\u001b[0m h_list \u001b[39m=\u001b[39m [bbox]\n\u001b[1;32m    382\u001b[0m f_list \u001b[39m=\u001b[39m []\n\u001b[0;32m--> 383\u001b[0m image_list, max_width \u001b[39m=\u001b[39m get_image_list(h_list, f_list, img_cv_grey, model_height \u001b[39m=\u001b[39;49m imgH)\n\u001b[1;32m    384\u001b[0m result0 \u001b[39m=\u001b[39m get_text(\u001b[39mself\u001b[39m\u001b[39m.\u001b[39mcharacter, imgH, \u001b[39mint\u001b[39m(max_width), \u001b[39mself\u001b[39m\u001b[39m.\u001b[39mrecognizer, \u001b[39mself\u001b[39m\u001b[39m.\u001b[39mconverter, image_list,\\\n\u001b[1;32m    385\u001b[0m               ignore_char, decoder, beamWidth, batch_size, contrast_ths, adjust_contrast, filter_ths,\\\n\u001b[1;32m    386\u001b[0m               workers, \u001b[39mself\u001b[39m\u001b[39m.\u001b[39mdevice)\n\u001b[1;32m    387\u001b[0m result \u001b[39m+\u001b[39m\u001b[39m=\u001b[39m result0\n",
      "File \u001b[0;32m/Library/Frameworks/Python.framework/Versions/3.11/lib/python3.11/site-packages/easyocr/utils.py:613\u001b[0m, in \u001b[0;36mget_image_list\u001b[0;34m(horizontal_list, free_list, img, model_height, sort_output)\u001b[0m\n\u001b[1;32m    611\u001b[0m     \u001b[39mpass\u001b[39;00m\n\u001b[1;32m    612\u001b[0m \u001b[39melse\u001b[39;00m:\n\u001b[0;32m--> 613\u001b[0m     crop_img,ratio \u001b[39m=\u001b[39m compute_ratio_and_resize(crop_img,width,height,model_height)\n\u001b[1;32m    614\u001b[0m     image_list\u001b[39m.\u001b[39mappend( ( [[x_min,y_min],[x_max,y_min],[x_max,y_max],[x_min,y_max]] ,crop_img) )\n\u001b[1;32m    615\u001b[0m     max_ratio_hori \u001b[39m=\u001b[39m \u001b[39mmax\u001b[39m(ratio, max_ratio_hori)\n",
      "File \u001b[0;32m/Library/Frameworks/Python.framework/Versions/3.11/lib/python3.11/site-packages/easyocr/utils.py:576\u001b[0m, in \u001b[0;36mcompute_ratio_and_resize\u001b[0;34m(img, width, height, model_height)\u001b[0m\n\u001b[1;32m    574\u001b[0m     img \u001b[39m=\u001b[39m cv2\u001b[39m.\u001b[39mresize(img,(model_height,\u001b[39mint\u001b[39m(model_height\u001b[39m*\u001b[39mratio)), interpolation\u001b[39m=\u001b[39mImage\u001b[39m.\u001b[39mANTIALIAS)\n\u001b[1;32m    575\u001b[0m \u001b[39melse\u001b[39;00m:\n\u001b[0;32m--> 576\u001b[0m     img \u001b[39m=\u001b[39m cv2\u001b[39m.\u001b[39mresize(img,(\u001b[39mint\u001b[39m(model_height\u001b[39m*\u001b[39mratio),model_height),interpolation\u001b[39m=\u001b[39mImage\u001b[39m.\u001b[39;49mANTIALIAS)\n\u001b[1;32m    577\u001b[0m \u001b[39mreturn\u001b[39;00m img,ratio\n",
      "\u001b[0;31mAttributeError\u001b[0m: module 'PIL.Image' has no attribute 'ANTIALIAS'"
     ]
    }
   ],
   "source": [
    "reader = easyocr.Reader(['en'])\n",
    "extract_info = reader.readtext('Image_01.jpg')"
   ]
  },
  {
   "cell_type": "code",
   "execution_count": 17,
   "metadata": {},
   "outputs": [
    {
     "ename": "NameError",
     "evalue": "name 'extract_info' is not defined",
     "output_type": "error",
     "traceback": [
      "\u001b[0;31m---------------------------------------------------------------------------\u001b[0m",
      "\u001b[0;31mNameError\u001b[0m                                 Traceback (most recent call last)",
      "Cell \u001b[0;32mIn[17], line 1\u001b[0m\n\u001b[0;32m----> 1\u001b[0m extract_info\n",
      "\u001b[0;31mNameError\u001b[0m: name 'extract_info' is not defined"
     ]
    }
   ],
   "source": [
    "extract_info"
   ]
  },
  {
   "cell_type": "code",
   "execution_count": 6,
   "metadata": {},
   "outputs": [
    {
     "name": "stdout",
     "output_type": "stream",
     "text": [
      "([[17, 45], [191, 45], [191, 89], [17, 89]], 'Back To', 0.676756590814167)\n",
      "([[14, 86], [250, 86], [250, 134], [14, 134]], 'The Future', 0.9988294980163894)\n",
      "([[295, 155], [333, 155], [333, 169], [295, 169]], 'Robart', 0.15947144918987471)\n",
      "([[285, 169], [333, 169], [333, 181], [285, 181]], 'Zontadt', 0.09009650512043635)\n",
      "([[282, 484], [338, 484], [338, 508], [282, 508]], '/1985', 0.3937475061845705)\n"
     ]
    }
   ],
   "source": [
    "for el in extract_info:\n",
    "   print(el)"
   ]
  },
  {
   "cell_type": "markdown",
   "metadata": {},
   "source": [
    "# **03 Keras OCR**"
   ]
  },
  {
   "cell_type": "code",
   "execution_count": 4,
   "metadata": {},
   "outputs": [
    {
     "name": "stdout",
     "output_type": "stream",
     "text": [
      "Collecting keras_ocr\n",
      "  Using cached keras_ocr-0.8.9-py3-none-any.whl (41 kB)\n",
      "Collecting editdistance (from keras_ocr)\n",
      "  Downloading editdistance-0.6.2-cp311-cp311-macosx_11_0_arm64.whl (20 kB)\n",
      "Collecting efficientnet==1.0.0 (from keras_ocr)\n",
      "  Downloading efficientnet-1.0.0-py3-none-any.whl (17 kB)\n",
      "Collecting essential_generators (from keras_ocr)\n",
      "  Downloading essential_generators-1.0-py3-none-any.whl (9.5 MB)\n",
      "\u001b[2K     \u001b[90m━━━━━━━━━━━━━━━━━━━━━━━━━━━━━━━━━━━━━━━━\u001b[0m \u001b[32m9.5/9.5 MB\u001b[0m \u001b[31m6.0 MB/s\u001b[0m eta \u001b[36m0:00:00\u001b[0m00:01\u001b[0m00:01\u001b[0m\n",
      "\u001b[?25hRequirement already satisfied: fonttools in /Library/Frameworks/Python.framework/Versions/3.11/lib/python3.11/site-packages (from keras_ocr) (4.42.0)\n",
      "Collecting imgaug (from keras_ocr)\n",
      "  Downloading imgaug-0.4.0-py2.py3-none-any.whl (948 kB)\n",
      "\u001b[2K     \u001b[90m━━━━━━━━━━━━━━━━━━━━━━━━━━━━━━━━━━━━━━\u001b[0m \u001b[32m948.0/948.0 kB\u001b[0m \u001b[31m10.3 MB/s\u001b[0m eta \u001b[36m0:00:00\u001b[0ma \u001b[36m0:00:01\u001b[0m\n",
      "\u001b[?25hCollecting pyclipper (from keras_ocr)\n",
      "  Using cached pyclipper-1.3.0.post4-cp311-cp311-macosx_10_9_universal2.whl (251 kB)\n",
      "Collecting shapely (from keras_ocr)\n",
      "  Using cached shapely-2.0.1-cp311-cp311-macosx_11_0_arm64.whl (1.2 MB)\n",
      "Requirement already satisfied: tqdm in /Library/Frameworks/Python.framework/Versions/3.11/lib/python3.11/site-packages (from keras_ocr) (4.65.1)\n",
      "Collecting validators (from keras_ocr)\n",
      "  Downloading validators-0.20.0.tar.gz (30 kB)\n",
      "  Installing build dependencies ... \u001b[?25ldone\n",
      "\u001b[?25h  Getting requirements to build wheel ... \u001b[?25ldone\n",
      "\u001b[?25h  Preparing metadata (pyproject.toml) ... \u001b[?25ldone\n",
      "\u001b[?25hCollecting keras-applications<=1.0.8,>=1.0.7 (from efficientnet==1.0.0->keras_ocr)\n",
      "  Downloading Keras_Applications-1.0.8-py3-none-any.whl (50 kB)\n",
      "\u001b[2K     \u001b[90m━━━━━━━━━━━━━━━━━━━━━━━━━━━━━━━━━━━━━━━━\u001b[0m \u001b[32m50.7/50.7 kB\u001b[0m \u001b[31m4.5 MB/s\u001b[0m eta \u001b[36m0:00:00\u001b[0m\n",
      "\u001b[?25hCollecting scikit-image (from efficientnet==1.0.0->keras_ocr)\n",
      "  Obtaining dependency information for scikit-image from https://files.pythonhosted.org/packages/20/54/06f821fd78c24f7047629dc4c8ed948101fc91fdf660ee3263d870220ae8/scikit_image-0.21.0-cp311-cp311-macosx_12_0_arm64.whl.metadata\n",
      "  Using cached scikit_image-0.21.0-cp311-cp311-macosx_12_0_arm64.whl.metadata (14 kB)\n",
      "Requirement already satisfied: six in /Users/akshayyewle/Library/Python/3.11/lib/python/site-packages (from imgaug->keras_ocr) (1.16.0)\n",
      "Requirement already satisfied: numpy>=1.15 in /Library/Frameworks/Python.framework/Versions/3.11/lib/python3.11/site-packages (from imgaug->keras_ocr) (1.25.2)\n",
      "Collecting scipy (from imgaug->keras_ocr)\n",
      "  Obtaining dependency information for scipy from https://files.pythonhosted.org/packages/db/8d/6419a5a65a538791f49d52cd8f8883bd11b41df0c9d35f500c9650f1e0b7/scipy-1.11.1-cp311-cp311-macosx_12_0_arm64.whl.metadata\n",
      "  Downloading scipy-1.11.1-cp311-cp311-macosx_12_0_arm64.whl.metadata (100 kB)\n",
      "\u001b[2K     \u001b[90m━━━━━━━━━━━━━━━━━━━━━━━━━━━━━━━━━━━━━━━\u001b[0m \u001b[32m100.3/100.3 kB\u001b[0m \u001b[31m8.8 MB/s\u001b[0m eta \u001b[36m0:00:00\u001b[0m\n",
      "\u001b[?25hRequirement already satisfied: Pillow in /Library/Frameworks/Python.framework/Versions/3.11/lib/python3.11/site-packages (from imgaug->keras_ocr) (10.0.0)\n",
      "Requirement already satisfied: matplotlib in /Library/Frameworks/Python.framework/Versions/3.11/lib/python3.11/site-packages (from imgaug->keras_ocr) (3.7.2)\n",
      "Collecting opencv-python (from imgaug->keras_ocr)\n",
      "  Obtaining dependency information for opencv-python from https://files.pythonhosted.org/packages/b1/ca/69f7f2204d5779ad939123cce9735f76db8f50e2b482e45b413c585b0b27/opencv_python-4.8.0.74-cp37-abi3-macosx_11_0_arm64.whl.metadata\n",
      "  Downloading opencv_python-4.8.0.74-cp37-abi3-macosx_11_0_arm64.whl.metadata (19 kB)\n",
      "Collecting imageio (from imgaug->keras_ocr)\n",
      "  Obtaining dependency information for imageio from https://files.pythonhosted.org/packages/c7/b0/7b6c35b8636ed773325cdb6f5ac3cd36afba63d99e20ed59c521cf5018b4/imageio-2.31.1-py3-none-any.whl.metadata\n",
      "  Using cached imageio-2.31.1-py3-none-any.whl.metadata (4.7 kB)\n",
      "Requirement already satisfied: decorator>=3.4.0 in /Users/akshayyewle/Library/Python/3.11/lib/python/site-packages (from validators->keras_ocr) (5.1.1)\n",
      "Collecting h5py (from keras-applications<=1.0.8,>=1.0.7->efficientnet==1.0.0->keras_ocr)\n",
      "  Obtaining dependency information for h5py from https://files.pythonhosted.org/packages/37/82/859d9fc800a316e692bd040437d45613512b43d49fb0435c5bbab9e71511/h5py-3.9.0-cp311-cp311-macosx_11_0_arm64.whl.metadata\n",
      "  Downloading h5py-3.9.0-cp311-cp311-macosx_11_0_arm64.whl.metadata (2.5 kB)\n",
      "Collecting networkx>=2.8 (from scikit-image->efficientnet==1.0.0->keras_ocr)\n",
      "  Using cached networkx-3.1-py3-none-any.whl (2.1 MB)\n",
      "Collecting tifffile>=2022.8.12 (from scikit-image->efficientnet==1.0.0->keras_ocr)\n",
      "  Obtaining dependency information for tifffile>=2022.8.12 from https://files.pythonhosted.org/packages/2d/e5/cc8a8ca43685006bb3ca56fab60707f3f74700844b18634db0b1e8b4b93f/tifffile-2023.7.18-py3-none-any.whl.metadata\n",
      "  Using cached tifffile-2023.7.18-py3-none-any.whl.metadata (32 kB)\n",
      "Collecting PyWavelets>=1.1.1 (from scikit-image->efficientnet==1.0.0->keras_ocr)\n",
      "  Using cached PyWavelets-1.4.1-cp311-cp311-macosx_11_0_arm64.whl (4.3 MB)\n",
      "Requirement already satisfied: packaging>=21 in /Users/akshayyewle/Library/Python/3.11/lib/python/site-packages (from scikit-image->efficientnet==1.0.0->keras_ocr) (23.0)\n",
      "Collecting lazy_loader>=0.2 (from scikit-image->efficientnet==1.0.0->keras_ocr)\n",
      "  Obtaining dependency information for lazy_loader>=0.2 from https://files.pythonhosted.org/packages/a1/c3/65b3814e155836acacf720e5be3b5757130346670ac454fee29d3eda1381/lazy_loader-0.3-py3-none-any.whl.metadata\n",
      "  Using cached lazy_loader-0.3-py3-none-any.whl.metadata (4.3 kB)\n",
      "Requirement already satisfied: contourpy>=1.0.1 in /Library/Frameworks/Python.framework/Versions/3.11/lib/python3.11/site-packages (from matplotlib->imgaug->keras_ocr) (1.1.0)\n",
      "Requirement already satisfied: cycler>=0.10 in /Library/Frameworks/Python.framework/Versions/3.11/lib/python3.11/site-packages (from matplotlib->imgaug->keras_ocr) (0.11.0)\n",
      "Requirement already satisfied: kiwisolver>=1.0.1 in /Library/Frameworks/Python.framework/Versions/3.11/lib/python3.11/site-packages (from matplotlib->imgaug->keras_ocr) (1.4.4)\n",
      "Requirement already satisfied: pyparsing<3.1,>=2.3.1 in /Library/Frameworks/Python.framework/Versions/3.11/lib/python3.11/site-packages (from matplotlib->imgaug->keras_ocr) (3.0.9)\n",
      "Requirement already satisfied: python-dateutil>=2.7 in /Users/akshayyewle/Library/Python/3.11/lib/python/site-packages (from matplotlib->imgaug->keras_ocr) (2.8.2)\n",
      "Using cached scikit_image-0.21.0-cp311-cp311-macosx_12_0_arm64.whl (12.3 MB)\n",
      "Using cached imageio-2.31.1-py3-none-any.whl (313 kB)\n",
      "Downloading scipy-1.11.1-cp311-cp311-macosx_12_0_arm64.whl (29.5 MB)\n",
      "\u001b[2K   \u001b[90m━━━━━━━━━━━━━━━━━━━━━━━━━━━━━━━━━━━━━━━━\u001b[0m \u001b[32m29.5/29.5 MB\u001b[0m \u001b[31m14.1 MB/s\u001b[0m eta \u001b[36m0:00:00\u001b[0m00:01\u001b[0m00:01\u001b[0m\n",
      "\u001b[?25hDownloading opencv_python-4.8.0.74-cp37-abi3-macosx_11_0_arm64.whl (33.1 MB)\n",
      "\u001b[2K   \u001b[90m━━━━━━━━━━━━━━━━━━━━━━━━━━━━━━━━━━━━━━━━\u001b[0m \u001b[32m33.1/33.1 MB\u001b[0m \u001b[31m16.9 MB/s\u001b[0m eta \u001b[36m0:00:00\u001b[0m00:01\u001b[0m00:01\u001b[0m\n",
      "\u001b[?25hUsing cached lazy_loader-0.3-py3-none-any.whl (9.1 kB)\n",
      "Using cached tifffile-2023.7.18-py3-none-any.whl (221 kB)\n",
      "Downloading h5py-3.9.0-cp311-cp311-macosx_11_0_arm64.whl (2.6 MB)\n",
      "\u001b[2K   \u001b[90m━━━━━━━━━━━━━━━━━━━━━━━━━━━━━━━━━━━━━━━━\u001b[0m \u001b[32m2.6/2.6 MB\u001b[0m \u001b[31m14.5 MB/s\u001b[0m eta \u001b[36m0:00:00\u001b[0ma \u001b[36m0:00:01\u001b[0m\n",
      "\u001b[?25hBuilding wheels for collected packages: validators\n",
      "  Building wheel for validators (pyproject.toml) ... \u001b[?25ldone\n",
      "\u001b[?25h  Created wheel for validators: filename=validators-0.20.0-py3-none-any.whl size=19575 sha256=7f4825bf939d48d9095d0cba4e3ef68792dc8e1f8ac09b7cc28727ab0f6643a4\n",
      "  Stored in directory: /Users/akshayyewle/Library/Caches/pip/wheels/82/35/dc/f88ec71edf2a5596bd72a8fa1b697277e0fcd3cde83048b8bf\n",
      "Successfully built validators\n",
      "Installing collected packages: pyclipper, essential_generators, validators, tifffile, shapely, scipy, PyWavelets, opencv-python, networkx, lazy_loader, imageio, h5py, editdistance, scikit-image, keras-applications, imgaug, efficientnet, keras_ocr\n",
      "Successfully installed PyWavelets-1.4.1 editdistance-0.6.2 efficientnet-1.0.0 essential_generators-1.0 h5py-3.9.0 imageio-2.31.1 imgaug-0.4.0 keras-applications-1.0.8 keras_ocr-0.8.9 lazy_loader-0.3 networkx-3.1 opencv-python-4.8.0.74 pyclipper-1.3.0.post4 scikit-image-0.21.0 scipy-1.11.1 shapely-2.0.1 tifffile-2023.7.18 validators-0.20.0\n"
     ]
    }
   ],
   "source": [
    "# installation\n",
    "# !pip install keras-ocr -q\n",
    "!pip install keras_ocr"
   ]
  },
  {
   "cell_type": "code",
   "execution_count": 5,
   "metadata": {},
   "outputs": [
    {
     "ename": "ModuleNotFoundError",
     "evalue": "No module named 'tensorflow'",
     "output_type": "error",
     "traceback": [
      "\u001b[0;31m---------------------------------------------------------------------------\u001b[0m",
      "\u001b[0;31mModuleNotFoundError\u001b[0m                       Traceback (most recent call last)",
      "Cell \u001b[0;32mIn[5], line 1\u001b[0m\n\u001b[0;32m----> 1\u001b[0m \u001b[39mimport\u001b[39;00m \u001b[39mkeras_ocr\u001b[39;00m\n",
      "File \u001b[0;32m/Library/Frameworks/Python.framework/Versions/3.11/lib/python3.11/site-packages/keras_ocr/__init__.py:1\u001b[0m\n\u001b[0;32m----> 1\u001b[0m \u001b[39mfrom\u001b[39;00m \u001b[39m.\u001b[39;00m \u001b[39mimport\u001b[39;00m (\n\u001b[1;32m      2\u001b[0m     detection,\n\u001b[1;32m      3\u001b[0m     recognition,\n\u001b[1;32m      4\u001b[0m     tools,\n\u001b[1;32m      5\u001b[0m     data_generation,\n\u001b[1;32m      6\u001b[0m     pipeline,\n\u001b[1;32m      7\u001b[0m     evaluation,\n\u001b[1;32m      8\u001b[0m     datasets,\n\u001b[1;32m      9\u001b[0m )\n\u001b[1;32m     11\u001b[0m __version__ \u001b[39m=\u001b[39m \u001b[39m\"\u001b[39m\u001b[39m0.0.0\u001b[39m\u001b[39m\"\u001b[39m\n",
      "File \u001b[0;32m/Library/Frameworks/Python.framework/Versions/3.11/lib/python3.11/site-packages/keras_ocr/detection.py:27\u001b[0m\n\u001b[1;32m     25\u001b[0m \u001b[39mimport\u001b[39;00m \u001b[39mcv2\u001b[39;00m\n\u001b[1;32m     26\u001b[0m \u001b[39mimport\u001b[39;00m \u001b[39mnumpy\u001b[39;00m \u001b[39mas\u001b[39;00m \u001b[39mnp\u001b[39;00m\n\u001b[0;32m---> 27\u001b[0m \u001b[39mimport\u001b[39;00m \u001b[39mtensorflow\u001b[39;00m \u001b[39mas\u001b[39;00m \u001b[39mtf\u001b[39;00m\n\u001b[1;32m     28\u001b[0m \u001b[39mimport\u001b[39;00m \u001b[39mefficientnet\u001b[39;00m\u001b[39m.\u001b[39;00m\u001b[39mtfkeras\u001b[39;00m \u001b[39mas\u001b[39;00m \u001b[39mefficientnet\u001b[39;00m\n\u001b[1;32m     29\u001b[0m \u001b[39mfrom\u001b[39;00m \u001b[39mtensorflow\u001b[39;00m \u001b[39mimport\u001b[39;00m keras\n",
      "\u001b[0;31mModuleNotFoundError\u001b[0m: No module named 'tensorflow'"
     ]
    }
   ],
   "source": [
    "import keras_ocr"
   ]
  },
  {
   "cell_type": "code",
   "execution_count": null,
   "metadata": {},
   "outputs": [],
   "source": [
    "pipeline = keras_ocr.pipeline.Pipeline()\n",
    "extract_info = pipeline.recognize([img_path1])\n",
    "print(extract_info[0][0])"
   ]
  },
  {
   "cell_type": "markdown",
   "metadata": {},
   "source": [
    "# **04 TrOCR**"
   ]
  },
  {
   "cell_type": "code",
   "execution_count": null,
   "metadata": {},
   "outputs": [],
   "source": [
    "# !pip install transformers"
   ]
  },
  {
   "cell_type": "code",
   "execution_count": 2,
   "metadata": {},
   "outputs": [],
   "source": [
    "from transformers import TrOCRProcessor, VisionEncoderDecoderModel\n",
    "from PIL import Image"
   ]
  },
  {
   "cell_type": "code",
   "execution_count": 3,
   "metadata": {},
   "outputs": [
    {
     "name": "stderr",
     "output_type": "stream",
     "text": [
      "Could not find image processor class in the image processor config or the model config. Loading based on pattern matching with the model's feature extractor configuration.\n"
     ]
    },
    {
     "data": {
      "application/vnd.jupyter.widget-view+json": {
       "model_id": "c069e6a4756f421cb2ffdfadb1dfc436",
       "version_major": 2,
       "version_minor": 0
      },
      "text/plain": [
       "Downloading (…)lve/main/config.json:   0%|          | 0.00/4.13k [00:00<?, ?B/s]"
      ]
     },
     "metadata": {},
     "output_type": "display_data"
    },
    {
     "data": {
      "application/vnd.jupyter.widget-view+json": {
       "model_id": "251f999a50dd4768865375832c3b089b",
       "version_major": 2,
       "version_minor": 0
      },
      "text/plain": [
       "Downloading pytorch_model.bin:   0%|          | 0.00/1.33G [00:00<?, ?B/s]"
      ]
     },
     "metadata": {},
     "output_type": "display_data"
    },
    {
     "name": "stderr",
     "output_type": "stream",
     "text": [
      "Some weights of VisionEncoderDecoderModel were not initialized from the model checkpoint at microsoft/trocr-base-printed and are newly initialized: ['encoder.pooler.dense.weight', 'encoder.pooler.dense.bias']\n",
      "You should probably TRAIN this model on a down-stream task to be able to use it for predictions and inference.\n"
     ]
    },
    {
     "data": {
      "application/vnd.jupyter.widget-view+json": {
       "model_id": "b0597101d27349f19c6179820bb0d341",
       "version_major": 2,
       "version_minor": 0
      },
      "text/plain": [
       "Downloading (…)neration_config.json:   0%|          | 0.00/190 [00:00<?, ?B/s]"
      ]
     },
     "metadata": {},
     "output_type": "display_data"
    }
   ],
   "source": [
    "model_version = \"microsoft/trocr-base-printed\"\n",
    "processor = TrOCRProcessor.from_pretrained(model_version)\n",
    "model = VisionEncoderDecoderModel.from_pretrained(model_version)"
   ]
  },
  {
   "cell_type": "code",
   "execution_count": 4,
   "metadata": {},
   "outputs": [
    {
     "name": "stderr",
     "output_type": "stream",
     "text": [
      "/Library/Frameworks/Python.framework/Versions/3.11/lib/python3.11/site-packages/transformers/generation/utils.py:1369: UserWarning: Using `max_length`'s default (20) to control the generation length. This behaviour is deprecated and will be removed from the config in v5 of Transformers -- we recommend using `max_new_tokens` to control the maximum length of the generation.\n",
      "  warnings.warn(\n"
     ]
    },
    {
     "name": "stdout",
     "output_type": "stream",
     "text": [
      "output:  AM\n"
     ]
    }
   ],
   "source": [
    "image = Image.open('Image_01.jpg').convert(\"RGB\")\n",
    "pixel_values = processor(image, return_tensors=\"pt\").pixel_values\n",
    "generated_ids = model.generate(pixel_values)\n",
    "extract_text = processor.batch_decode(generated_ids, skip_special_tokens=True)[0]\n",
    "print('output: ',extract_text)\n",
    "# output: 2.50"
   ]
  },
  {
   "cell_type": "markdown",
   "metadata": {},
   "source": [
    "# **05 DocTR**"
   ]
  },
  {
   "cell_type": "code",
   "execution_count": 5,
   "metadata": {},
   "outputs": [
    {
     "name": "stdout",
     "output_type": "stream",
     "text": [
      "Collecting python-doctr\n",
      "  Using cached python_doctr-0.6.0-py3-none-any.whl (239 kB)\n",
      "Collecting importlib-metadata (from python-doctr)\n",
      "  Obtaining dependency information for importlib-metadata from https://files.pythonhosted.org/packages/cc/37/db7ba97e676af155f5fcb1a35466f446eadc9104e25b83366e8088c9c926/importlib_metadata-6.8.0-py3-none-any.whl.metadata\n",
      "  Using cached importlib_metadata-6.8.0-py3-none-any.whl.metadata (5.1 kB)\n",
      "Requirement already satisfied: numpy<2.0.0,>=1.16.0 in /Library/Frameworks/Python.framework/Versions/3.11/lib/python3.11/site-packages (from python-doctr) (1.25.2)\n",
      "Requirement already satisfied: scipy<2.0.0,>=1.4.0 in /Library/Frameworks/Python.framework/Versions/3.11/lib/python3.11/site-packages (from python-doctr) (1.11.1)\n",
      "Requirement already satisfied: h5py<4.0.0,>=3.1.0 in /Library/Frameworks/Python.framework/Versions/3.11/lib/python3.11/site-packages (from python-doctr) (3.9.0)\n",
      "Requirement already satisfied: opencv-python<5.0.0,>=4.5.0 in /Library/Frameworks/Python.framework/Versions/3.11/lib/python3.11/site-packages (from python-doctr) (4.8.0.74)\n",
      "Collecting pypdfium2<4.0.0,>=3.0.0 (from python-doctr)\n",
      "  Downloading pypdfium2-3.21.1-py3-none-macosx_11_0_arm64.macosx_12_0_arm64.whl (2.7 MB)\n",
      "\u001b[2K     \u001b[90m━━━━━━━━━━━━━━━━━━━━━━━━━━━━━━━━━━━━━━━━\u001b[0m \u001b[32m2.7/2.7 MB\u001b[0m \u001b[31m13.8 MB/s\u001b[0m eta \u001b[36m0:00:00\u001b[0ma \u001b[36m0:00:01\u001b[0m\n",
      "\u001b[?25hRequirement already satisfied: pyclipper<2.0.0,>=1.2.0 in /Library/Frameworks/Python.framework/Versions/3.11/lib/python3.11/site-packages (from python-doctr) (1.3.0.post4)\n",
      "Collecting shapely<2.0.0,>=1.6.0 (from python-doctr)\n",
      "  Downloading Shapely-1.8.5.post1-cp311-cp311-macosx_11_0_arm64.whl (1.1 MB)\n",
      "\u001b[2K     \u001b[90m━━━━━━━━━━━━━━━━━━━━━━━━━━━━━━━━━━━━━━━━\u001b[0m \u001b[32m1.1/1.1 MB\u001b[0m \u001b[31m26.4 MB/s\u001b[0m eta \u001b[36m0:00:00\u001b[0m00:01\u001b[0m\n",
      "\u001b[?25hCollecting langdetect<2.0.0,>=1.0.9 (from python-doctr)\n",
      "  Downloading langdetect-1.0.9.tar.gz (981 kB)\n",
      "\u001b[2K     \u001b[90m━━━━━━━━━━━━━━━━━━━━━━━━━━━━━━━━━━━━━━\u001b[0m \u001b[32m981.5/981.5 kB\u001b[0m \u001b[31m34.1 MB/s\u001b[0m eta \u001b[36m0:00:00\u001b[0m\n",
      "\u001b[?25h  Installing build dependencies ... \u001b[?25ldone\n",
      "\u001b[?25h  Getting requirements to build wheel ... \u001b[?25ldone\n",
      "\u001b[?25h  Preparing metadata (pyproject.toml) ... \u001b[?25ldone\n",
      "\u001b[?25hRequirement already satisfied: matplotlib>=3.1.0 in /Library/Frameworks/Python.framework/Versions/3.11/lib/python3.11/site-packages (from python-doctr) (3.7.2)\n",
      "Collecting weasyprint>=55.0 (from python-doctr)\n",
      "  Downloading weasyprint-59.0-py3-none-any.whl (267 kB)\n",
      "\u001b[2K     \u001b[90m━━━━━━━━━━━━━━━━━━━━━━━━━━━━━━━━━━━━━━\u001b[0m \u001b[32m267.6/267.6 kB\u001b[0m \u001b[31m21.9 MB/s\u001b[0m eta \u001b[36m0:00:00\u001b[0m\n",
      "\u001b[?25hRequirement already satisfied: Pillow>=8.3.2 in /Library/Frameworks/Python.framework/Versions/3.11/lib/python3.11/site-packages (from python-doctr) (10.0.0)\n",
      "Requirement already satisfied: defusedxml>=0.7.0 in /Library/Frameworks/Python.framework/Versions/3.11/lib/python3.11/site-packages (from python-doctr) (0.7.1)\n",
      "Collecting mplcursors>=0.3 (from python-doctr)\n",
      "  Downloading mplcursors-0.5.2.tar.gz (89 kB)\n",
      "\u001b[2K     \u001b[90m━━━━━━━━━━━━━━━━━━━━━━━━━━━━━━━━━━━━━━━━\u001b[0m \u001b[32m89.0/89.0 kB\u001b[0m \u001b[31m13.3 MB/s\u001b[0m eta \u001b[36m0:00:00\u001b[0m\n",
      "\u001b[?25h  Installing build dependencies ... \u001b[?25ldone\n",
      "\u001b[?25h  Getting requirements to build wheel ... \u001b[?25ldone\n",
      "\u001b[?25h  Installing backend dependencies ... \u001b[?25ldone\n",
      "\u001b[?25h  Preparing metadata (pyproject.toml) ... \u001b[?25ldone\n",
      "\u001b[?25hCollecting unidecode>=1.0.0 (from python-doctr)\n",
      "  Downloading Unidecode-1.3.6-py3-none-any.whl (235 kB)\n",
      "\u001b[2K     \u001b[90m━━━━━━━━━━━━━━━━━━━━━━━━━━━━━━━━━━━━━━\u001b[0m \u001b[32m235.9/235.9 kB\u001b[0m \u001b[31m16.3 MB/s\u001b[0m eta \u001b[36m0:00:00\u001b[0m\n",
      "\u001b[?25hRequirement already satisfied: tqdm>=4.30.0 in /Library/Frameworks/Python.framework/Versions/3.11/lib/python3.11/site-packages (from python-doctr) (4.65.1)\n",
      "Collecting rapidfuzz>=1.6.0 (from python-doctr)\n",
      "  Obtaining dependency information for rapidfuzz>=1.6.0 from https://files.pythonhosted.org/packages/9c/cf/b4f5766b8932845abaa39b707a09eac10d0311becd294e54f08b118ded2d/rapidfuzz-3.2.0-cp311-cp311-macosx_11_0_arm64.whl.metadata\n",
      "  Downloading rapidfuzz-3.2.0-cp311-cp311-macosx_11_0_arm64.whl.metadata (11 kB)\n",
      "Requirement already satisfied: huggingface-hub>=0.4.0 in /Library/Frameworks/Python.framework/Versions/3.11/lib/python3.11/site-packages (from python-doctr) (0.16.4)\n",
      "Requirement already satisfied: filelock in /Library/Frameworks/Python.framework/Versions/3.11/lib/python3.11/site-packages (from huggingface-hub>=0.4.0->python-doctr) (3.12.2)\n",
      "Requirement already satisfied: fsspec in /Library/Frameworks/Python.framework/Versions/3.11/lib/python3.11/site-packages (from huggingface-hub>=0.4.0->python-doctr) (2023.6.0)\n",
      "Requirement already satisfied: requests in /Library/Frameworks/Python.framework/Versions/3.11/lib/python3.11/site-packages (from huggingface-hub>=0.4.0->python-doctr) (2.31.0)\n",
      "Requirement already satisfied: pyyaml>=5.1 in /Library/Frameworks/Python.framework/Versions/3.11/lib/python3.11/site-packages (from huggingface-hub>=0.4.0->python-doctr) (6.0.1)\n",
      "Requirement already satisfied: typing-extensions>=3.7.4.3 in /Library/Frameworks/Python.framework/Versions/3.11/lib/python3.11/site-packages (from huggingface-hub>=0.4.0->python-doctr) (4.7.1)\n",
      "Requirement already satisfied: packaging>=20.9 in /Users/akshayyewle/Library/Python/3.11/lib/python/site-packages (from huggingface-hub>=0.4.0->python-doctr) (23.0)\n",
      "Requirement already satisfied: six in /Users/akshayyewle/Library/Python/3.11/lib/python/site-packages (from langdetect<2.0.0,>=1.0.9->python-doctr) (1.16.0)\n",
      "Requirement already satisfied: contourpy>=1.0.1 in /Library/Frameworks/Python.framework/Versions/3.11/lib/python3.11/site-packages (from matplotlib>=3.1.0->python-doctr) (1.1.0)\n",
      "Requirement already satisfied: cycler>=0.10 in /Library/Frameworks/Python.framework/Versions/3.11/lib/python3.11/site-packages (from matplotlib>=3.1.0->python-doctr) (0.11.0)\n",
      "Requirement already satisfied: fonttools>=4.22.0 in /Library/Frameworks/Python.framework/Versions/3.11/lib/python3.11/site-packages (from matplotlib>=3.1.0->python-doctr) (4.42.0)\n",
      "Requirement already satisfied: kiwisolver>=1.0.1 in /Library/Frameworks/Python.framework/Versions/3.11/lib/python3.11/site-packages (from matplotlib>=3.1.0->python-doctr) (1.4.4)\n",
      "Requirement already satisfied: pyparsing<3.1,>=2.3.1 in /Library/Frameworks/Python.framework/Versions/3.11/lib/python3.11/site-packages (from matplotlib>=3.1.0->python-doctr) (3.0.9)\n",
      "Requirement already satisfied: python-dateutil>=2.7 in /Users/akshayyewle/Library/Python/3.11/lib/python/site-packages (from matplotlib>=3.1.0->python-doctr) (2.8.2)\n",
      "Collecting pydyf>=0.6.0 (from weasyprint>=55.0->python-doctr)\n",
      "  Obtaining dependency information for pydyf>=0.6.0 from https://files.pythonhosted.org/packages/81/c4/263a1cdd6668cc5ee29ddccd0b399b5a9905cd2afb1cecdc6062dd31f66a/pydyf-0.7.0-py3-none-any.whl.metadata\n",
      "  Downloading pydyf-0.7.0-py3-none-any.whl.metadata (2.6 kB)\n",
      "Requirement already satisfied: cffi>=0.6 in /Library/Frameworks/Python.framework/Versions/3.11/lib/python3.11/site-packages (from weasyprint>=55.0->python-doctr) (1.15.1)\n",
      "Collecting html5lib>=1.1 (from weasyprint>=55.0->python-doctr)\n",
      "  Downloading html5lib-1.1-py2.py3-none-any.whl (112 kB)\n",
      "\u001b[2K     \u001b[90m━━━━━━━━━━━━━━━━━━━━━━━━━━━━━━━━━━━━━━\u001b[0m \u001b[32m112.2/112.2 kB\u001b[0m \u001b[31m12.4 MB/s\u001b[0m eta \u001b[36m0:00:00\u001b[0m\n",
      "\u001b[?25hRequirement already satisfied: tinycss2>=1.0.0 in /Library/Frameworks/Python.framework/Versions/3.11/lib/python3.11/site-packages (from weasyprint>=55.0->python-doctr) (1.2.1)\n",
      "Collecting cssselect2>=0.1 (from weasyprint>=55.0->python-doctr)\n",
      "  Downloading cssselect2-0.7.0-py3-none-any.whl (15 kB)\n",
      "Collecting Pyphen>=0.9.1 (from weasyprint>=55.0->python-doctr)\n",
      "  Downloading pyphen-0.14.0-py3-none-any.whl (2.0 MB)\n",
      "\u001b[2K     \u001b[90m━━━━━━━━━━━━━━━━━━━━━━━━━━━━━━━━━━━━━━━━\u001b[0m \u001b[32m2.0/2.0 MB\u001b[0m \u001b[31m22.4 MB/s\u001b[0m eta \u001b[36m0:00:00\u001b[0m00:01\u001b[0m00:01\u001b[0m\n",
      "\u001b[?25hCollecting zipp>=0.5 (from importlib-metadata->python-doctr)\n",
      "  Obtaining dependency information for zipp>=0.5 from https://files.pythonhosted.org/packages/8c/08/d3006317aefe25ea79d3b76c9650afabaf6d63d1c8443b236e7405447503/zipp-3.16.2-py3-none-any.whl.metadata\n",
      "  Downloading zipp-3.16.2-py3-none-any.whl.metadata (3.7 kB)\n",
      "Requirement already satisfied: pycparser in /Library/Frameworks/Python.framework/Versions/3.11/lib/python3.11/site-packages (from cffi>=0.6->weasyprint>=55.0->python-doctr) (2.21)\n",
      "Requirement already satisfied: webencodings in /Library/Frameworks/Python.framework/Versions/3.11/lib/python3.11/site-packages (from cssselect2>=0.1->weasyprint>=55.0->python-doctr) (0.5.1)\n",
      "Collecting zopfli>=0.1.4 (from fonttools>=4.22.0->matplotlib>=3.1.0->python-doctr)\n",
      "  Downloading zopfli-0.2.2-cp311-cp311-macosx_10_9_universal2.whl (295 kB)\n",
      "\u001b[2K     \u001b[90m━━━━━━━━━━━━━━━━━━━━━━━━━━━━━━━━━━━━━━\u001b[0m \u001b[32m295.2/295.2 kB\u001b[0m \u001b[31m18.5 MB/s\u001b[0m eta \u001b[36m0:00:00\u001b[0m\n",
      "\u001b[?25hCollecting brotli>=1.0.1 (from fonttools>=4.22.0->matplotlib>=3.1.0->python-doctr)\n",
      "  Downloading Brotli-1.0.9-cp311-cp311-macosx_10_9_universal2.whl (806 kB)\n",
      "\u001b[2K     \u001b[90m━━━━━━━━━━━━━━━━━━━━━━━━━━━━━━━━━━━━━━\u001b[0m \u001b[32m806.0/806.0 kB\u001b[0m \u001b[31m29.2 MB/s\u001b[0m eta \u001b[36m0:00:00\u001b[0m\n",
      "\u001b[?25hRequirement already satisfied: charset-normalizer<4,>=2 in /Library/Frameworks/Python.framework/Versions/3.11/lib/python3.11/site-packages (from requests->huggingface-hub>=0.4.0->python-doctr) (3.2.0)\n",
      "Requirement already satisfied: idna<4,>=2.5 in /Library/Frameworks/Python.framework/Versions/3.11/lib/python3.11/site-packages (from requests->huggingface-hub>=0.4.0->python-doctr) (3.4)\n",
      "Requirement already satisfied: urllib3<3,>=1.21.1 in /Library/Frameworks/Python.framework/Versions/3.11/lib/python3.11/site-packages (from requests->huggingface-hub>=0.4.0->python-doctr) (2.0.4)\n",
      "Requirement already satisfied: certifi>=2017.4.17 in /Library/Frameworks/Python.framework/Versions/3.11/lib/python3.11/site-packages (from requests->huggingface-hub>=0.4.0->python-doctr) (2023.7.22)\n",
      "Downloading rapidfuzz-3.2.0-cp311-cp311-macosx_11_0_arm64.whl (1.1 MB)\n",
      "\u001b[2K   \u001b[90m━━━━━━━━━━━━━━━━━━━━━━━━━━━━━━━━━━━━━━━━\u001b[0m \u001b[32m1.1/1.1 MB\u001b[0m \u001b[31m30.4 MB/s\u001b[0m eta \u001b[36m0:00:00\u001b[0m\n",
      "\u001b[?25hUsing cached importlib_metadata-6.8.0-py3-none-any.whl (22 kB)\n",
      "Downloading pydyf-0.7.0-py3-none-any.whl (7.5 kB)\n",
      "Using cached zipp-3.16.2-py3-none-any.whl (7.2 kB)\n",
      "Building wheels for collected packages: langdetect, mplcursors\n",
      "  Building wheel for langdetect (pyproject.toml) ... \u001b[?25ldone\n",
      "\u001b[?25h  Created wheel for langdetect: filename=langdetect-1.0.9-py3-none-any.whl size=993225 sha256=90f5cbe1030f8c55e0c2a3ee34a5a5c21f6c60ed9d2d0c76b804843fab02927d\n",
      "  Stored in directory: /Users/akshayyewle/Library/Caches/pip/wheels/0a/f2/b2/e5ca405801e05eb7c8ed5b3b4bcf1fcabcd6272c167640072e\n",
      "  Building wheel for mplcursors (pyproject.toml) ... \u001b[?25ldone\n",
      "\u001b[?25h  Created wheel for mplcursors: filename=mplcursors-0.5.2-py3-none-any.whl size=21048 sha256=238540b3d2936203936478dd861c7e918be1f6b4925e3889104cf5b38dc22f8b\n",
      "  Stored in directory: /Users/akshayyewle/Library/Caches/pip/wheels/5d/a1/eb/b98ee80431eb8217a22381e1725048be8cd0385675b151be45\n",
      "Successfully built langdetect mplcursors\n",
      "Installing collected packages: brotli, zopfli, zipp, unidecode, shapely, rapidfuzz, Pyphen, pypdfium2, pydyf, langdetect, html5lib, importlib-metadata, cssselect2, weasyprint, mplcursors, python-doctr\n",
      "  Attempting uninstall: shapely\n",
      "    Found existing installation: shapely 2.0.1\n",
      "    Uninstalling shapely-2.0.1:\n",
      "      Successfully uninstalled shapely-2.0.1\n",
      "Successfully installed Pyphen-0.14.0 brotli-1.0.9 cssselect2-0.7.0 html5lib-1.1 importlib-metadata-6.8.0 langdetect-1.0.9 mplcursors-0.5.2 pydyf-0.7.0 pypdfium2-3.21.1 python-doctr-0.6.0 rapidfuzz-3.2.0 shapely-1.8.5.post1 unidecode-1.3.6 weasyprint-59.0 zipp-3.16.2 zopfli-0.2.2\n"
     ]
    }
   ],
   "source": [
    "!pip install python-doctr"
   ]
  },
  {
   "cell_type": "code",
   "execution_count": 8,
   "metadata": {},
   "outputs": [
    {
     "name": "stdout",
     "output_type": "stream",
     "text": [
      "Requirement already satisfied: python-doctr[tf] in /Library/Frameworks/Python.framework/Versions/3.11/lib/python3.11/site-packages (0.6.0)\n",
      "Requirement already satisfied: importlib-metadata in /Library/Frameworks/Python.framework/Versions/3.11/lib/python3.11/site-packages (from python-doctr[tf]) (6.8.0)\n",
      "Requirement already satisfied: numpy<2.0.0,>=1.16.0 in /Library/Frameworks/Python.framework/Versions/3.11/lib/python3.11/site-packages (from python-doctr[tf]) (1.25.2)\n",
      "Requirement already satisfied: scipy<2.0.0,>=1.4.0 in /Library/Frameworks/Python.framework/Versions/3.11/lib/python3.11/site-packages (from python-doctr[tf]) (1.11.1)\n",
      "Requirement already satisfied: h5py<4.0.0,>=3.1.0 in /Library/Frameworks/Python.framework/Versions/3.11/lib/python3.11/site-packages (from python-doctr[tf]) (3.9.0)\n",
      "Requirement already satisfied: opencv-python<5.0.0,>=4.5.0 in /Library/Frameworks/Python.framework/Versions/3.11/lib/python3.11/site-packages (from python-doctr[tf]) (4.8.0.74)\n",
      "Requirement already satisfied: pypdfium2<4.0.0,>=3.0.0 in /Library/Frameworks/Python.framework/Versions/3.11/lib/python3.11/site-packages (from python-doctr[tf]) (3.21.1)\n",
      "Requirement already satisfied: pyclipper<2.0.0,>=1.2.0 in /Library/Frameworks/Python.framework/Versions/3.11/lib/python3.11/site-packages (from python-doctr[tf]) (1.3.0.post4)\n",
      "Requirement already satisfied: shapely<2.0.0,>=1.6.0 in /Library/Frameworks/Python.framework/Versions/3.11/lib/python3.11/site-packages (from python-doctr[tf]) (1.8.5.post1)\n",
      "Requirement already satisfied: langdetect<2.0.0,>=1.0.9 in /Library/Frameworks/Python.framework/Versions/3.11/lib/python3.11/site-packages (from python-doctr[tf]) (1.0.9)\n",
      "Requirement already satisfied: matplotlib>=3.1.0 in /Library/Frameworks/Python.framework/Versions/3.11/lib/python3.11/site-packages (from python-doctr[tf]) (3.7.2)\n",
      "Requirement already satisfied: weasyprint>=55.0 in /Library/Frameworks/Python.framework/Versions/3.11/lib/python3.11/site-packages (from python-doctr[tf]) (59.0)\n",
      "Requirement already satisfied: Pillow>=8.3.2 in /Library/Frameworks/Python.framework/Versions/3.11/lib/python3.11/site-packages (from python-doctr[tf]) (10.0.0)\n",
      "Requirement already satisfied: defusedxml>=0.7.0 in /Library/Frameworks/Python.framework/Versions/3.11/lib/python3.11/site-packages (from python-doctr[tf]) (0.7.1)\n",
      "Requirement already satisfied: mplcursors>=0.3 in /Library/Frameworks/Python.framework/Versions/3.11/lib/python3.11/site-packages (from python-doctr[tf]) (0.5.2)\n",
      "Requirement already satisfied: unidecode>=1.0.0 in /Library/Frameworks/Python.framework/Versions/3.11/lib/python3.11/site-packages (from python-doctr[tf]) (1.3.6)\n",
      "Requirement already satisfied: tqdm>=4.30.0 in /Library/Frameworks/Python.framework/Versions/3.11/lib/python3.11/site-packages (from python-doctr[tf]) (4.65.1)\n",
      "Requirement already satisfied: rapidfuzz>=1.6.0 in /Library/Frameworks/Python.framework/Versions/3.11/lib/python3.11/site-packages (from python-doctr[tf]) (3.2.0)\n",
      "Requirement already satisfied: huggingface-hub>=0.4.0 in /Library/Frameworks/Python.framework/Versions/3.11/lib/python3.11/site-packages (from python-doctr[tf]) (0.16.4)\n",
      "Collecting tensorflow<3.0.0,>=2.9.0 (from python-doctr[tf])\n",
      "  Obtaining dependency information for tensorflow<3.0.0,>=2.9.0 from https://files.pythonhosted.org/packages/d6/69/d461fa09235326e08b7ca463d5491426fdd4908ef6d3f9ed51d0777dc071/tensorflow-2.13.0-cp311-cp311-macosx_12_0_arm64.whl.metadata\n",
      "  Using cached tensorflow-2.13.0-cp311-cp311-macosx_12_0_arm64.whl.metadata (2.6 kB)\n",
      "Collecting tensorflow-addons>=0.17.1 (from python-doctr[tf])\n",
      "  Obtaining dependency information for tensorflow-addons>=0.17.1 from https://files.pythonhosted.org/packages/67/3e/9d55405e721ecd8781058fe46a68178461989fb554ca5f62207f09639cad/tensorflow_addons-0.21.0-cp311-cp311-macosx_11_0_arm64.whl.metadata\n",
      "  Using cached tensorflow_addons-0.21.0-cp311-cp311-macosx_11_0_arm64.whl.metadata (1.8 kB)\n",
      "Collecting tf2onnx>=1.9.2 (from python-doctr[tf])\n",
      "  Using cached tf2onnx-1.14.0-py3-none-any.whl (451 kB)\n",
      "Requirement already satisfied: filelock in /Library/Frameworks/Python.framework/Versions/3.11/lib/python3.11/site-packages (from huggingface-hub>=0.4.0->python-doctr[tf]) (3.12.2)\n",
      "Requirement already satisfied: fsspec in /Library/Frameworks/Python.framework/Versions/3.11/lib/python3.11/site-packages (from huggingface-hub>=0.4.0->python-doctr[tf]) (2023.6.0)\n",
      "Requirement already satisfied: requests in /Library/Frameworks/Python.framework/Versions/3.11/lib/python3.11/site-packages (from huggingface-hub>=0.4.0->python-doctr[tf]) (2.31.0)\n",
      "Requirement already satisfied: pyyaml>=5.1 in /Library/Frameworks/Python.framework/Versions/3.11/lib/python3.11/site-packages (from huggingface-hub>=0.4.0->python-doctr[tf]) (6.0.1)\n",
      "Requirement already satisfied: typing-extensions>=3.7.4.3 in /Library/Frameworks/Python.framework/Versions/3.11/lib/python3.11/site-packages (from huggingface-hub>=0.4.0->python-doctr[tf]) (4.7.1)\n",
      "Requirement already satisfied: packaging>=20.9 in /Users/akshayyewle/Library/Python/3.11/lib/python/site-packages (from huggingface-hub>=0.4.0->python-doctr[tf]) (23.0)\n",
      "Requirement already satisfied: six in /Users/akshayyewle/Library/Python/3.11/lib/python/site-packages (from langdetect<2.0.0,>=1.0.9->python-doctr[tf]) (1.16.0)\n",
      "Requirement already satisfied: contourpy>=1.0.1 in /Library/Frameworks/Python.framework/Versions/3.11/lib/python3.11/site-packages (from matplotlib>=3.1.0->python-doctr[tf]) (1.1.0)\n",
      "Requirement already satisfied: cycler>=0.10 in /Library/Frameworks/Python.framework/Versions/3.11/lib/python3.11/site-packages (from matplotlib>=3.1.0->python-doctr[tf]) (0.11.0)\n",
      "Requirement already satisfied: fonttools>=4.22.0 in /Library/Frameworks/Python.framework/Versions/3.11/lib/python3.11/site-packages (from matplotlib>=3.1.0->python-doctr[tf]) (4.42.0)\n",
      "Requirement already satisfied: kiwisolver>=1.0.1 in /Library/Frameworks/Python.framework/Versions/3.11/lib/python3.11/site-packages (from matplotlib>=3.1.0->python-doctr[tf]) (1.4.4)\n",
      "Requirement already satisfied: pyparsing<3.1,>=2.3.1 in /Library/Frameworks/Python.framework/Versions/3.11/lib/python3.11/site-packages (from matplotlib>=3.1.0->python-doctr[tf]) (3.0.9)\n",
      "Requirement already satisfied: python-dateutil>=2.7 in /Users/akshayyewle/Library/Python/3.11/lib/python/site-packages (from matplotlib>=3.1.0->python-doctr[tf]) (2.8.2)\n",
      "Collecting tensorflow-macos==2.13.0 (from tensorflow<3.0.0,>=2.9.0->python-doctr[tf])\n",
      "  Obtaining dependency information for tensorflow-macos==2.13.0 from https://files.pythonhosted.org/packages/f1/cc/6c262ae6f3a23b118b1104fa5f6126067744ffa9226faade202b0a20bdd3/tensorflow_macos-2.13.0-cp311-cp311-macosx_12_0_arm64.whl.metadata\n",
      "  Using cached tensorflow_macos-2.13.0-cp311-cp311-macosx_12_0_arm64.whl.metadata (3.2 kB)\n",
      "Collecting absl-py>=1.0.0 (from tensorflow-macos==2.13.0->tensorflow<3.0.0,>=2.9.0->python-doctr[tf])\n",
      "  Using cached absl_py-1.4.0-py3-none-any.whl (126 kB)\n",
      "Collecting astunparse>=1.6.0 (from tensorflow-macos==2.13.0->tensorflow<3.0.0,>=2.9.0->python-doctr[tf])\n",
      "  Using cached astunparse-1.6.3-py2.py3-none-any.whl (12 kB)\n",
      "Collecting flatbuffers>=23.1.21 (from tensorflow-macos==2.13.0->tensorflow<3.0.0,>=2.9.0->python-doctr[tf])\n",
      "  Obtaining dependency information for flatbuffers>=23.1.21 from https://files.pythonhosted.org/packages/6f/12/d5c79ee252793ffe845d58a913197bfa02ae9a0b5c9bc3dc4b58d477b9e7/flatbuffers-23.5.26-py2.py3-none-any.whl.metadata\n",
      "  Using cached flatbuffers-23.5.26-py2.py3-none-any.whl.metadata (850 bytes)\n",
      "Collecting gast<=0.4.0,>=0.2.1 (from tensorflow-macos==2.13.0->tensorflow<3.0.0,>=2.9.0->python-doctr[tf])\n",
      "  Using cached gast-0.4.0-py3-none-any.whl (9.8 kB)\n",
      "Collecting google-pasta>=0.1.1 (from tensorflow-macos==2.13.0->tensorflow<3.0.0,>=2.9.0->python-doctr[tf])\n",
      "  Using cached google_pasta-0.2.0-py3-none-any.whl (57 kB)\n",
      "Collecting libclang>=13.0.0 (from tensorflow-macos==2.13.0->tensorflow<3.0.0,>=2.9.0->python-doctr[tf])\n",
      "  Obtaining dependency information for libclang>=13.0.0 from https://files.pythonhosted.org/packages/32/1f/981809b77b71972beec34b3ff5422c1b1f7e519daac7b3cbd055c05ba2cf/libclang-16.0.6-py2.py3-none-macosx_11_0_arm64.whl.metadata\n",
      "  Using cached libclang-16.0.6-py2.py3-none-macosx_11_0_arm64.whl.metadata (5.2 kB)\n",
      "Collecting numpy<2.0.0,>=1.16.0 (from python-doctr[tf])\n",
      "  Using cached numpy-1.24.3-cp311-cp311-macosx_11_0_arm64.whl (13.8 MB)\n",
      "Collecting opt-einsum>=2.3.2 (from tensorflow-macos==2.13.0->tensorflow<3.0.0,>=2.9.0->python-doctr[tf])\n",
      "  Using cached opt_einsum-3.3.0-py3-none-any.whl (65 kB)\n",
      "Collecting protobuf!=4.21.0,!=4.21.1,!=4.21.2,!=4.21.3,!=4.21.4,!=4.21.5,<5.0.0dev,>=3.20.3 (from tensorflow-macos==2.13.0->tensorflow<3.0.0,>=2.9.0->python-doctr[tf])\n",
      "  Obtaining dependency information for protobuf!=4.21.0,!=4.21.1,!=4.21.2,!=4.21.3,!=4.21.4,!=4.21.5,<5.0.0dev,>=3.20.3 from https://files.pythonhosted.org/packages/cb/d3/a164038605494d49acc4f9cda1c0bc200b96382c53edd561387263bb181d/protobuf-4.23.4-cp37-abi3-macosx_10_9_universal2.whl.metadata\n",
      "  Using cached protobuf-4.23.4-cp37-abi3-macosx_10_9_universal2.whl.metadata (540 bytes)\n",
      "Requirement already satisfied: setuptools in /Library/Frameworks/Python.framework/Versions/3.11/lib/python3.11/site-packages (from tensorflow-macos==2.13.0->tensorflow<3.0.0,>=2.9.0->python-doctr[tf]) (65.5.0)\n",
      "Collecting termcolor>=1.1.0 (from tensorflow-macos==2.13.0->tensorflow<3.0.0,>=2.9.0->python-doctr[tf])\n",
      "  Using cached termcolor-2.3.0-py3-none-any.whl (6.9 kB)\n",
      "Collecting typing-extensions>=3.7.4.3 (from huggingface-hub>=0.4.0->python-doctr[tf])\n",
      "  Using cached typing_extensions-4.5.0-py3-none-any.whl (27 kB)\n",
      "Collecting wrapt>=1.11.0 (from tensorflow-macos==2.13.0->tensorflow<3.0.0,>=2.9.0->python-doctr[tf])\n",
      "  Using cached wrapt-1.15.0-cp311-cp311-macosx_11_0_arm64.whl (36 kB)\n",
      "Collecting grpcio<2.0,>=1.24.3 (from tensorflow-macos==2.13.0->tensorflow<3.0.0,>=2.9.0->python-doctr[tf])\n",
      "  Obtaining dependency information for grpcio<2.0,>=1.24.3 from https://files.pythonhosted.org/packages/06/ed/4c7651a5af2628273a80ae55376f21c8e6fcababadfa0d6ec771aa02ee9b/grpcio-1.56.2-cp311-cp311-macosx_10_10_universal2.whl.metadata\n",
      "  Using cached grpcio-1.56.2-cp311-cp311-macosx_10_10_universal2.whl.metadata (4.0 kB)\n",
      "Collecting tensorboard<2.14,>=2.13 (from tensorflow-macos==2.13.0->tensorflow<3.0.0,>=2.9.0->python-doctr[tf])\n",
      "  Using cached tensorboard-2.13.0-py3-none-any.whl (5.6 MB)\n",
      "Collecting tensorflow-estimator<2.14,>=2.13.0 (from tensorflow-macos==2.13.0->tensorflow<3.0.0,>=2.9.0->python-doctr[tf])\n",
      "  Obtaining dependency information for tensorflow-estimator<2.14,>=2.13.0 from https://files.pythonhosted.org/packages/72/5c/c318268d96791c6222ad7df1651bbd1b2409139afeb6f468c0f327177016/tensorflow_estimator-2.13.0-py2.py3-none-any.whl.metadata\n",
      "  Using cached tensorflow_estimator-2.13.0-py2.py3-none-any.whl.metadata (1.3 kB)\n",
      "Collecting keras<2.14,>=2.13.1 (from tensorflow-macos==2.13.0->tensorflow<3.0.0,>=2.9.0->python-doctr[tf])\n",
      "  Obtaining dependency information for keras<2.14,>=2.13.1 from https://files.pythonhosted.org/packages/2e/f3/19da7511b45e80216cbbd9467137b2d28919c58ba1ccb971435cb631e470/keras-2.13.1-py3-none-any.whl.metadata\n",
      "  Using cached keras-2.13.1-py3-none-any.whl.metadata (2.4 kB)\n",
      "Requirement already satisfied: typeguard<3.0.0,>=2.7 in /Library/Frameworks/Python.framework/Versions/3.11/lib/python3.11/site-packages (from tensorflow-addons>=0.17.1->python-doctr[tf]) (2.13.3)\n",
      "Collecting onnx>=1.4.1 (from tf2onnx>=1.9.2->python-doctr[tf])\n",
      "  Using cached onnx-1.14.0-cp311-cp311-macosx_10_12_universal2.whl (15.2 MB)\n",
      "INFO: pip is looking at multiple versions of tf2onnx to determine which version is compatible with other requirements. This could take a while.\n",
      "Collecting tf2onnx>=1.9.2 (from python-doctr[tf])\n",
      "  Using cached tf2onnx-1.13.0-py3-none-any.whl (442 kB)\n",
      "  Using cached tf2onnx-1.12.1-py3-none-any.whl (442 kB)\n",
      "  Using cached tf2onnx-1.12.0-py3-none-any.whl (442 kB)\n",
      "  Using cached tf2onnx-1.11.1-py3-none-any.whl (440 kB)\n",
      "  Using cached tf2onnx-1.10.1-py3-none-any.whl (440 kB)\n",
      "  Using cached tf2onnx-1.9.3-py3-none-any.whl (435 kB)\n",
      "  Using cached tf2onnx-1.9.2-py3-none-any.whl (430 kB)\n",
      "INFO: pip is still looking at multiple versions of tf2onnx to determine which version is compatible with other requirements. This could take a while.\n",
      "Collecting python-doctr[tf]\n",
      "  Using cached python_doctr-0.6.0-py3-none-any.whl (239 kB)\n",
      "Collecting flatbuffers<3.0,>=1.12 (from tf2onnx>=1.9.2->python-doctr[tf])\n",
      "  Using cached flatbuffers-2.0.7-py2.py3-none-any.whl (26 kB)\n",
      "INFO: pip is looking at multiple versions of tensorflow-macos to determine which version is compatible with other requirements. This could take a while.\n",
      "Collecting flatbuffers~=1.12 (from tf2onnx>=1.9.2->python-doctr[tf])\n",
      "  Using cached flatbuffers-1.12-py2.py3-none-any.whl (15 kB)\n",
      "INFO: pip is still looking at multiple versions of tensorflow-macos to determine which version is compatible with other requirements. This could take a while.\n",
      "Collecting python-doctr[tf]\n",
      "  Using cached python_doctr-0.5.1-py3-none-any.whl (205 kB)\n",
      "Collecting matplotlib<3.4.3,>=3.1.0 (from python-doctr[tf])\n",
      "  Using cached matplotlib-3.4.2-cp311-cp311-macosx_10_9_universal2.whl\n",
      "Collecting weasyprint<53.0,>=52.2 (from python-doctr[tf])\n",
      "  Using cached WeasyPrint-52.5-py3-none-any.whl (365 kB)\n",
      "Collecting keras<2.7.0 (from python-doctr[tf])\n",
      "  Using cached keras-2.6.0-py2.py3-none-any.whl (1.3 MB)\n",
      "Collecting python-doctr[tf]\n",
      "  Using cached python_doctr-0.5.0-py3-none-any.whl (209 kB)\n",
      "Requirement already satisfied: PyMuPDF!=1.18.11,!=1.18.12,>=1.16.0 in /Library/Frameworks/Python.framework/Versions/3.11/lib/python3.11/site-packages (from python-doctr[tf]) (1.22.5)\n",
      "  Using cached python_doctr-0.4.1-py3-none-any.whl (169 kB)\n",
      "Collecting PyMuPDF<1.18.11,>=1.16.0 (from python-doctr[tf])\n",
      "  Using cached PyMuPDF-1.18.10.tar.gz (310 kB)\n",
      "  Installing build dependencies ... \u001b[?25ldone\n",
      "\u001b[?25h  Getting requirements to build wheel ... \u001b[?25ldone\n",
      "\u001b[?25h  Preparing metadata (pyproject.toml) ... \u001b[?25ldone\n",
      "\u001b[?25hCollecting python-doctr[tf]\n",
      "  Using cached python_doctr-0.4.0-py3-none-any.whl (161 kB)\n",
      "Requirement already satisfied: cffi>=0.6 in /Library/Frameworks/Python.framework/Versions/3.11/lib/python3.11/site-packages (from weasyprint<53.0,>=52.2->python-doctr[tf]) (1.15.1)\n",
      "Requirement already satisfied: html5lib>=0.999999999 in /Library/Frameworks/Python.framework/Versions/3.11/lib/python3.11/site-packages (from weasyprint<53.0,>=52.2->python-doctr[tf]) (1.1)\n",
      "Collecting cairocffi>=0.9.0 (from weasyprint<53.0,>=52.2->python-doctr[tf])\n",
      "  Obtaining dependency information for cairocffi>=0.9.0 from https://files.pythonhosted.org/packages/17/be/a5d2c16317c6a890502725970589ae7f06cfc66b2e6916ba0a86973403c8/cairocffi-1.6.1-py3-none-any.whl.metadata\n",
      "  Using cached cairocffi-1.6.1-py3-none-any.whl.metadata (3.3 kB)\n",
      "Requirement already satisfied: tinycss2>=1.0.0 in /Library/Frameworks/Python.framework/Versions/3.11/lib/python3.11/site-packages (from weasyprint<53.0,>=52.2->python-doctr[tf]) (1.2.1)\n",
      "Requirement already satisfied: cssselect2>=0.1 in /Library/Frameworks/Python.framework/Versions/3.11/lib/python3.11/site-packages (from weasyprint<53.0,>=52.2->python-doctr[tf]) (0.7.0)\n",
      "Collecting CairoSVG>=2.4.0 (from weasyprint<53.0,>=52.2->python-doctr[tf])\n",
      "  Obtaining dependency information for CairoSVG>=2.4.0 from https://files.pythonhosted.org/packages/01/a5/1866b42151f50453f1a0d28fc4c39f5be5f412a2e914f33449c42daafdf1/CairoSVG-2.7.1-py3-none-any.whl.metadata\n",
      "  Using cached CairoSVG-2.7.1-py3-none-any.whl.metadata (2.7 kB)\n",
      "Requirement already satisfied: Pyphen>=0.9.1 in /Library/Frameworks/Python.framework/Versions/3.11/lib/python3.11/site-packages (from weasyprint<53.0,>=52.2->python-doctr[tf]) (0.14.0)\n",
      "Requirement already satisfied: pycparser in /Library/Frameworks/Python.framework/Versions/3.11/lib/python3.11/site-packages (from cffi>=0.6->weasyprint<53.0,>=52.2->python-doctr[tf]) (2.21)\n",
      "Requirement already satisfied: webencodings in /Library/Frameworks/Python.framework/Versions/3.11/lib/python3.11/site-packages (from cssselect2>=0.1->weasyprint<53.0,>=52.2->python-doctr[tf]) (0.5.1)\n",
      "Collecting wheel<1.0,>=0.23.0 (from astunparse>=1.6.0->tensorflow-macos==2.13.0->tensorflow<3.0.0,>=2.9.0->python-doctr[tf])\n",
      "  Obtaining dependency information for wheel<1.0,>=0.23.0 from https://files.pythonhosted.org/packages/28/f5/6955d7b3a5d71ce6bac104f9cf98c1b0513ad656cdaca8ea7d579196f771/wheel-0.41.1-py3-none-any.whl.metadata\n",
      "  Using cached wheel-0.41.1-py3-none-any.whl.metadata (2.2 kB)\n",
      "Collecting google-auth<3,>=1.6.3 (from tensorboard<2.14,>=2.13->tensorflow-macos==2.13.0->tensorflow<3.0.0,>=2.9.0->python-doctr[tf])\n",
      "  Obtaining dependency information for google-auth<3,>=1.6.3 from https://files.pythonhosted.org/packages/9c/8d/bff87fc722553a5691d8514da5523c23547f3894189ba03b57592e37bdc2/google_auth-2.22.0-py2.py3-none-any.whl.metadata\n",
      "  Using cached google_auth-2.22.0-py2.py3-none-any.whl.metadata (4.2 kB)\n",
      "Collecting google-auth-oauthlib<1.1,>=0.5 (from tensorboard<2.14,>=2.13->tensorflow-macos==2.13.0->tensorflow<3.0.0,>=2.9.0->python-doctr[tf])\n",
      "  Using cached google_auth_oauthlib-1.0.0-py2.py3-none-any.whl (18 kB)\n",
      "Collecting markdown>=2.6.8 (from tensorboard<2.14,>=2.13->tensorflow-macos==2.13.0->tensorflow<3.0.0,>=2.9.0->python-doctr[tf])\n",
      "  Obtaining dependency information for markdown>=2.6.8 from https://files.pythonhosted.org/packages/1a/b5/228c1cdcfe138f1a8e01ab1b54284c8b83735476cb22b6ba251656ed13ad/Markdown-3.4.4-py3-none-any.whl.metadata\n",
      "  Using cached Markdown-3.4.4-py3-none-any.whl.metadata (6.9 kB)\n",
      "Collecting tensorboard-data-server<0.8.0,>=0.7.0 (from tensorboard<2.14,>=2.13->tensorflow-macos==2.13.0->tensorflow<3.0.0,>=2.9.0->python-doctr[tf])\n",
      "  Obtaining dependency information for tensorboard-data-server<0.8.0,>=0.7.0 from https://files.pythonhosted.org/packages/da/61/6e9ff8258422d287eec718872fb71e05324356722ab658c8afda25f51539/tensorboard_data_server-0.7.1-py3-none-any.whl.metadata\n",
      "  Using cached tensorboard_data_server-0.7.1-py3-none-any.whl.metadata (1.1 kB)\n",
      "Collecting werkzeug>=1.0.1 (from tensorboard<2.14,>=2.13->tensorflow-macos==2.13.0->tensorflow<3.0.0,>=2.9.0->python-doctr[tf])\n",
      "  Obtaining dependency information for werkzeug>=1.0.1 from https://files.pythonhosted.org/packages/ba/d6/8040faecaba2feb84e1647af174b3243c9b90c163c7ea407820839931efe/Werkzeug-2.3.6-py3-none-any.whl.metadata\n",
      "  Using cached Werkzeug-2.3.6-py3-none-any.whl.metadata (4.1 kB)\n",
      "Collecting cachetools<6.0,>=2.0.0 (from google-auth<3,>=1.6.3->tensorboard<2.14,>=2.13->tensorflow-macos==2.13.0->tensorflow<3.0.0,>=2.9.0->python-doctr[tf])\n",
      "  Obtaining dependency information for cachetools<6.0,>=2.0.0 from https://files.pythonhosted.org/packages/a9/c9/c8a7710f2cedcb1db9224fdd4d8307c9e48cbddc46c18b515fefc0f1abbe/cachetools-5.3.1-py3-none-any.whl.metadata\n",
      "  Using cached cachetools-5.3.1-py3-none-any.whl.metadata (5.2 kB)\n",
      "Collecting pyasn1-modules>=0.2.1 (from google-auth<3,>=1.6.3->tensorboard<2.14,>=2.13->tensorflow-macos==2.13.0->tensorflow<3.0.0,>=2.9.0->python-doctr[tf])\n",
      "  Using cached pyasn1_modules-0.3.0-py2.py3-none-any.whl (181 kB)\n",
      "Collecting rsa<5,>=3.1.4 (from google-auth<3,>=1.6.3->tensorboard<2.14,>=2.13->tensorflow-macos==2.13.0->tensorflow<3.0.0,>=2.9.0->python-doctr[tf])\n",
      "  Using cached rsa-4.9-py3-none-any.whl (34 kB)\n",
      "Collecting urllib3<2.0 (from google-auth<3,>=1.6.3->tensorboard<2.14,>=2.13->tensorflow-macos==2.13.0->tensorflow<3.0.0,>=2.9.0->python-doctr[tf])\n",
      "  Obtaining dependency information for urllib3<2.0 from https://files.pythonhosted.org/packages/c5/05/c214b32d21c0b465506f95c4f28ccbcba15022e000b043b72b3df7728471/urllib3-1.26.16-py2.py3-none-any.whl.metadata\n",
      "  Using cached urllib3-1.26.16-py2.py3-none-any.whl.metadata (48 kB)\n",
      "Collecting requests-oauthlib>=0.7.0 (from google-auth-oauthlib<1.1,>=0.5->tensorboard<2.14,>=2.13->tensorflow-macos==2.13.0->tensorflow<3.0.0,>=2.9.0->python-doctr[tf])\n",
      "  Using cached requests_oauthlib-1.3.1-py2.py3-none-any.whl (23 kB)\n",
      "Requirement already satisfied: charset-normalizer<4,>=2 in /Library/Frameworks/Python.framework/Versions/3.11/lib/python3.11/site-packages (from requests->huggingface-hub>=0.4.0->python-doctr[tf]) (3.2.0)\n",
      "Requirement already satisfied: idna<4,>=2.5 in /Library/Frameworks/Python.framework/Versions/3.11/lib/python3.11/site-packages (from requests->huggingface-hub>=0.4.0->python-doctr[tf]) (3.4)\n",
      "Requirement already satisfied: certifi>=2017.4.17 in /Library/Frameworks/Python.framework/Versions/3.11/lib/python3.11/site-packages (from requests->huggingface-hub>=0.4.0->python-doctr[tf]) (2023.7.22)\n",
      "Requirement already satisfied: MarkupSafe>=2.1.1 in /Library/Frameworks/Python.framework/Versions/3.11/lib/python3.11/site-packages (from werkzeug>=1.0.1->tensorboard<2.14,>=2.13->tensorflow-macos==2.13.0->tensorflow<3.0.0,>=2.9.0->python-doctr[tf]) (2.1.3)\n",
      "Collecting pyasn1<0.6.0,>=0.4.6 (from pyasn1-modules>=0.2.1->google-auth<3,>=1.6.3->tensorboard<2.14,>=2.13->tensorflow-macos==2.13.0->tensorflow<3.0.0,>=2.9.0->python-doctr[tf])\n",
      "  Using cached pyasn1-0.5.0-py2.py3-none-any.whl (83 kB)\n",
      "Collecting oauthlib>=3.0.0 (from requests-oauthlib>=0.7.0->google-auth-oauthlib<1.1,>=0.5->tensorboard<2.14,>=2.13->tensorflow-macos==2.13.0->tensorflow<3.0.0,>=2.9.0->python-doctr[tf])\n",
      "  Using cached oauthlib-3.2.2-py3-none-any.whl (151 kB)\n",
      "Using cached tensorflow-2.13.0-cp311-cp311-macosx_12_0_arm64.whl (1.9 kB)\n",
      "Using cached tensorflow_macos-2.13.0-cp311-cp311-macosx_12_0_arm64.whl (189.3 MB)\n",
      "Using cached keras-2.13.1-py3-none-any.whl (1.7 MB)\n",
      "Using cached tensorflow_addons-0.21.0-cp311-cp311-macosx_11_0_arm64.whl (11.9 MB)\n",
      "Using cached cairocffi-1.6.1-py3-none-any.whl (75 kB)\n",
      "Using cached CairoSVG-2.7.1-py3-none-any.whl (43 kB)\n",
      "Using cached flatbuffers-23.5.26-py2.py3-none-any.whl (26 kB)\n",
      "Using cached grpcio-1.56.2-cp311-cp311-macosx_10_10_universal2.whl (8.9 MB)\n",
      "Using cached libclang-16.0.6-py2.py3-none-macosx_11_0_arm64.whl (20.6 MB)\n",
      "Using cached protobuf-4.23.4-cp37-abi3-macosx_10_9_universal2.whl (400 kB)\n",
      "Using cached tensorflow_estimator-2.13.0-py2.py3-none-any.whl (440 kB)\n",
      "Using cached google_auth-2.22.0-py2.py3-none-any.whl (181 kB)\n",
      "Using cached Markdown-3.4.4-py3-none-any.whl (94 kB)\n",
      "Using cached tensorboard_data_server-0.7.1-py3-none-any.whl (2.4 kB)\n",
      "Using cached Werkzeug-2.3.6-py3-none-any.whl (242 kB)\n",
      "Using cached wheel-0.41.1-py3-none-any.whl (64 kB)\n",
      "Using cached cachetools-5.3.1-py3-none-any.whl (9.3 kB)\n",
      "Using cached urllib3-1.26.16-py2.py3-none-any.whl (143 kB)\n",
      "Building wheels for collected packages: PyMuPDF\n",
      "  Building wheel for PyMuPDF (pyproject.toml) ... \u001b[?25lerror\n",
      "  \u001b[1;31merror\u001b[0m: \u001b[1msubprocess-exited-with-error\u001b[0m\n",
      "  \n",
      "  \u001b[31m×\u001b[0m \u001b[32mBuilding wheel for PyMuPDF \u001b[0m\u001b[1;32m(\u001b[0m\u001b[32mpyproject.toml\u001b[0m\u001b[1;32m)\u001b[0m did not run successfully.\n",
      "  \u001b[31m│\u001b[0m exit code: \u001b[1;36m1\u001b[0m\n",
      "  \u001b[31m╰─>\u001b[0m \u001b[31m[5 lines of output]\u001b[0m\n",
      "  \u001b[31m   \u001b[0m fitz/fitz_wrap.c:2767:10: fatal error: 'fitz.h' file not found\n",
      "  \u001b[31m   \u001b[0m #include <fitz.h>\n",
      "  \u001b[31m   \u001b[0m          ^~~~~~~~\n",
      "  \u001b[31m   \u001b[0m 1 error generated.\n",
      "  \u001b[31m   \u001b[0m error: command '/usr/bin/clang' failed with exit code 1\n",
      "  \u001b[31m   \u001b[0m \u001b[31m[end of output]\u001b[0m\n",
      "  \n",
      "  \u001b[1;35mnote\u001b[0m: This error originates from a subprocess, and is likely not a problem with pip.\n",
      "\u001b[?25h\u001b[31m  ERROR: Failed building wheel for PyMuPDF\u001b[0m\u001b[31m\n",
      "\u001b[0mFailed to build PyMuPDF\n",
      "\u001b[31mERROR: Could not build wheels for PyMuPDF, which is required to install pyproject.toml-based projects\u001b[0m\u001b[31m\n",
      "\u001b[0m"
     ]
    }
   ],
   "source": [
    "# for TensorFlow\n",
    "!pip install \"python-doctr[tf]\""
   ]
  },
  {
   "cell_type": "code",
   "execution_count": 7,
   "metadata": {},
   "outputs": [
    {
     "name": "stdout",
     "output_type": "stream",
     "text": [
      "Collecting PyMuPDF\n",
      "  Obtaining dependency information for PyMuPDF from https://files.pythonhosted.org/packages/b5/f7/016c23f678b96821f8708a7b8db67dc784d8ef635668188b9864246a7754/PyMuPDF-1.22.5-cp311-cp311-macosx_11_0_arm64.whl.metadata\n",
      "  Using cached PyMuPDF-1.22.5-cp311-cp311-macosx_11_0_arm64.whl.metadata (8.3 kB)\n",
      "Downloading PyMuPDF-1.22.5-cp311-cp311-macosx_11_0_arm64.whl (12.7 MB)\n",
      "\u001b[2K   \u001b[90m━━━━━━━━━━━━━━━━━━━━━━━━━━━━━━━━━━━━━━━━\u001b[0m \u001b[32m12.7/12.7 MB\u001b[0m \u001b[31m19.4 MB/s\u001b[0m eta \u001b[36m0:00:00\u001b[0m00:01\u001b[0m00:01\u001b[0m\n",
      "\u001b[?25hInstalling collected packages: PyMuPDF\n",
      "Successfully installed PyMuPDF-1.22.5\n"
     ]
    }
   ],
   "source": [
    "# !pip install PyMuPDF"
   ]
  },
  {
   "cell_type": "code",
   "execution_count": 9,
   "metadata": {},
   "outputs": [
    {
     "name": "stdout",
     "output_type": "stream",
     "text": [
      "Requirement already satisfied: python-doctr[torch] in /Library/Frameworks/Python.framework/Versions/3.11/lib/python3.11/site-packages (0.6.0)\n",
      "Requirement already satisfied: importlib-metadata in /Library/Frameworks/Python.framework/Versions/3.11/lib/python3.11/site-packages (from python-doctr[torch]) (6.8.0)\n",
      "Requirement already satisfied: numpy<2.0.0,>=1.16.0 in /Library/Frameworks/Python.framework/Versions/3.11/lib/python3.11/site-packages (from python-doctr[torch]) (1.25.2)\n",
      "Requirement already satisfied: scipy<2.0.0,>=1.4.0 in /Library/Frameworks/Python.framework/Versions/3.11/lib/python3.11/site-packages (from python-doctr[torch]) (1.11.1)\n",
      "Requirement already satisfied: h5py<4.0.0,>=3.1.0 in /Library/Frameworks/Python.framework/Versions/3.11/lib/python3.11/site-packages (from python-doctr[torch]) (3.9.0)\n",
      "Requirement already satisfied: opencv-python<5.0.0,>=4.5.0 in /Library/Frameworks/Python.framework/Versions/3.11/lib/python3.11/site-packages (from python-doctr[torch]) (4.8.0.74)\n",
      "Requirement already satisfied: pypdfium2<4.0.0,>=3.0.0 in /Library/Frameworks/Python.framework/Versions/3.11/lib/python3.11/site-packages (from python-doctr[torch]) (3.21.1)\n",
      "Requirement already satisfied: pyclipper<2.0.0,>=1.2.0 in /Library/Frameworks/Python.framework/Versions/3.11/lib/python3.11/site-packages (from python-doctr[torch]) (1.3.0.post4)\n",
      "Requirement already satisfied: shapely<2.0.0,>=1.6.0 in /Library/Frameworks/Python.framework/Versions/3.11/lib/python3.11/site-packages (from python-doctr[torch]) (1.8.5.post1)\n",
      "Requirement already satisfied: langdetect<2.0.0,>=1.0.9 in /Library/Frameworks/Python.framework/Versions/3.11/lib/python3.11/site-packages (from python-doctr[torch]) (1.0.9)\n",
      "Requirement already satisfied: matplotlib>=3.1.0 in /Library/Frameworks/Python.framework/Versions/3.11/lib/python3.11/site-packages (from python-doctr[torch]) (3.7.2)\n",
      "Requirement already satisfied: weasyprint>=55.0 in /Library/Frameworks/Python.framework/Versions/3.11/lib/python3.11/site-packages (from python-doctr[torch]) (59.0)\n",
      "Requirement already satisfied: Pillow>=8.3.2 in /Library/Frameworks/Python.framework/Versions/3.11/lib/python3.11/site-packages (from python-doctr[torch]) (10.0.0)\n",
      "Requirement already satisfied: defusedxml>=0.7.0 in /Library/Frameworks/Python.framework/Versions/3.11/lib/python3.11/site-packages (from python-doctr[torch]) (0.7.1)\n",
      "Requirement already satisfied: mplcursors>=0.3 in /Library/Frameworks/Python.framework/Versions/3.11/lib/python3.11/site-packages (from python-doctr[torch]) (0.5.2)\n",
      "Requirement already satisfied: unidecode>=1.0.0 in /Library/Frameworks/Python.framework/Versions/3.11/lib/python3.11/site-packages (from python-doctr[torch]) (1.3.6)\n",
      "Requirement already satisfied: tqdm>=4.30.0 in /Library/Frameworks/Python.framework/Versions/3.11/lib/python3.11/site-packages (from python-doctr[torch]) (4.65.1)\n",
      "Requirement already satisfied: rapidfuzz>=1.6.0 in /Library/Frameworks/Python.framework/Versions/3.11/lib/python3.11/site-packages (from python-doctr[torch]) (3.2.0)\n",
      "Requirement already satisfied: huggingface-hub>=0.4.0 in /Library/Frameworks/Python.framework/Versions/3.11/lib/python3.11/site-packages (from python-doctr[torch]) (0.16.4)\n",
      "Requirement already satisfied: torch>=1.8.0 in /Library/Frameworks/Python.framework/Versions/3.11/lib/python3.11/site-packages (from python-doctr[torch]) (2.0.1)\n",
      "Requirement already satisfied: torchvision>=0.9.0 in /Library/Frameworks/Python.framework/Versions/3.11/lib/python3.11/site-packages (from python-doctr[torch]) (0.15.2)\n",
      "Requirement already satisfied: filelock in /Library/Frameworks/Python.framework/Versions/3.11/lib/python3.11/site-packages (from huggingface-hub>=0.4.0->python-doctr[torch]) (3.12.2)\n",
      "Requirement already satisfied: fsspec in /Library/Frameworks/Python.framework/Versions/3.11/lib/python3.11/site-packages (from huggingface-hub>=0.4.0->python-doctr[torch]) (2023.6.0)\n",
      "Requirement already satisfied: requests in /Library/Frameworks/Python.framework/Versions/3.11/lib/python3.11/site-packages (from huggingface-hub>=0.4.0->python-doctr[torch]) (2.31.0)\n",
      "Requirement already satisfied: pyyaml>=5.1 in /Library/Frameworks/Python.framework/Versions/3.11/lib/python3.11/site-packages (from huggingface-hub>=0.4.0->python-doctr[torch]) (6.0.1)\n",
      "Requirement already satisfied: typing-extensions>=3.7.4.3 in /Library/Frameworks/Python.framework/Versions/3.11/lib/python3.11/site-packages (from huggingface-hub>=0.4.0->python-doctr[torch]) (4.7.1)\n",
      "Requirement already satisfied: packaging>=20.9 in /Users/akshayyewle/Library/Python/3.11/lib/python/site-packages (from huggingface-hub>=0.4.0->python-doctr[torch]) (23.0)\n",
      "Requirement already satisfied: six in /Users/akshayyewle/Library/Python/3.11/lib/python/site-packages (from langdetect<2.0.0,>=1.0.9->python-doctr[torch]) (1.16.0)\n",
      "Requirement already satisfied: contourpy>=1.0.1 in /Library/Frameworks/Python.framework/Versions/3.11/lib/python3.11/site-packages (from matplotlib>=3.1.0->python-doctr[torch]) (1.1.0)\n",
      "Requirement already satisfied: cycler>=0.10 in /Library/Frameworks/Python.framework/Versions/3.11/lib/python3.11/site-packages (from matplotlib>=3.1.0->python-doctr[torch]) (0.11.0)\n",
      "Requirement already satisfied: fonttools>=4.22.0 in /Library/Frameworks/Python.framework/Versions/3.11/lib/python3.11/site-packages (from matplotlib>=3.1.0->python-doctr[torch]) (4.42.0)\n",
      "Requirement already satisfied: kiwisolver>=1.0.1 in /Library/Frameworks/Python.framework/Versions/3.11/lib/python3.11/site-packages (from matplotlib>=3.1.0->python-doctr[torch]) (1.4.4)\n",
      "Requirement already satisfied: pyparsing<3.1,>=2.3.1 in /Library/Frameworks/Python.framework/Versions/3.11/lib/python3.11/site-packages (from matplotlib>=3.1.0->python-doctr[torch]) (3.0.9)\n",
      "Requirement already satisfied: python-dateutil>=2.7 in /Users/akshayyewle/Library/Python/3.11/lib/python/site-packages (from matplotlib>=3.1.0->python-doctr[torch]) (2.8.2)\n",
      "Requirement already satisfied: sympy in /Library/Frameworks/Python.framework/Versions/3.11/lib/python3.11/site-packages (from torch>=1.8.0->python-doctr[torch]) (1.12)\n",
      "Requirement already satisfied: networkx in /Library/Frameworks/Python.framework/Versions/3.11/lib/python3.11/site-packages (from torch>=1.8.0->python-doctr[torch]) (3.1)\n",
      "Requirement already satisfied: jinja2 in /Library/Frameworks/Python.framework/Versions/3.11/lib/python3.11/site-packages (from torch>=1.8.0->python-doctr[torch]) (3.1.2)\n",
      "Requirement already satisfied: pydyf>=0.6.0 in /Library/Frameworks/Python.framework/Versions/3.11/lib/python3.11/site-packages (from weasyprint>=55.0->python-doctr[torch]) (0.7.0)\n",
      "Requirement already satisfied: cffi>=0.6 in /Library/Frameworks/Python.framework/Versions/3.11/lib/python3.11/site-packages (from weasyprint>=55.0->python-doctr[torch]) (1.15.1)\n",
      "Requirement already satisfied: html5lib>=1.1 in /Library/Frameworks/Python.framework/Versions/3.11/lib/python3.11/site-packages (from weasyprint>=55.0->python-doctr[torch]) (1.1)\n",
      "Requirement already satisfied: tinycss2>=1.0.0 in /Library/Frameworks/Python.framework/Versions/3.11/lib/python3.11/site-packages (from weasyprint>=55.0->python-doctr[torch]) (1.2.1)\n",
      "Requirement already satisfied: cssselect2>=0.1 in /Library/Frameworks/Python.framework/Versions/3.11/lib/python3.11/site-packages (from weasyprint>=55.0->python-doctr[torch]) (0.7.0)\n",
      "Requirement already satisfied: Pyphen>=0.9.1 in /Library/Frameworks/Python.framework/Versions/3.11/lib/python3.11/site-packages (from weasyprint>=55.0->python-doctr[torch]) (0.14.0)\n",
      "Requirement already satisfied: zipp>=0.5 in /Library/Frameworks/Python.framework/Versions/3.11/lib/python3.11/site-packages (from importlib-metadata->python-doctr[torch]) (3.16.2)\n",
      "Requirement already satisfied: pycparser in /Library/Frameworks/Python.framework/Versions/3.11/lib/python3.11/site-packages (from cffi>=0.6->weasyprint>=55.0->python-doctr[torch]) (2.21)\n",
      "Requirement already satisfied: webencodings in /Library/Frameworks/Python.framework/Versions/3.11/lib/python3.11/site-packages (from cssselect2>=0.1->weasyprint>=55.0->python-doctr[torch]) (0.5.1)\n",
      "Requirement already satisfied: zopfli>=0.1.4 in /Library/Frameworks/Python.framework/Versions/3.11/lib/python3.11/site-packages (from fonttools>=4.22.0->matplotlib>=3.1.0->python-doctr[torch]) (0.2.2)\n",
      "Requirement already satisfied: brotli>=1.0.1 in /Library/Frameworks/Python.framework/Versions/3.11/lib/python3.11/site-packages (from fonttools>=4.22.0->matplotlib>=3.1.0->python-doctr[torch]) (1.0.9)\n",
      "Requirement already satisfied: MarkupSafe>=2.0 in /Library/Frameworks/Python.framework/Versions/3.11/lib/python3.11/site-packages (from jinja2->torch>=1.8.0->python-doctr[torch]) (2.1.3)\n",
      "Requirement already satisfied: charset-normalizer<4,>=2 in /Library/Frameworks/Python.framework/Versions/3.11/lib/python3.11/site-packages (from requests->huggingface-hub>=0.4.0->python-doctr[torch]) (3.2.0)\n",
      "Requirement already satisfied: idna<4,>=2.5 in /Library/Frameworks/Python.framework/Versions/3.11/lib/python3.11/site-packages (from requests->huggingface-hub>=0.4.0->python-doctr[torch]) (3.4)\n",
      "Requirement already satisfied: urllib3<3,>=1.21.1 in /Library/Frameworks/Python.framework/Versions/3.11/lib/python3.11/site-packages (from requests->huggingface-hub>=0.4.0->python-doctr[torch]) (2.0.4)\n",
      "Requirement already satisfied: certifi>=2017.4.17 in /Library/Frameworks/Python.framework/Versions/3.11/lib/python3.11/site-packages (from requests->huggingface-hub>=0.4.0->python-doctr[torch]) (2023.7.22)\n",
      "Requirement already satisfied: mpmath>=0.19 in /Library/Frameworks/Python.framework/Versions/3.11/lib/python3.11/site-packages (from sympy->torch>=1.8.0->python-doctr[torch]) (1.3.0)\n"
     ]
    }
   ],
   "source": [
    "# for PyTorch\n",
    "!pip install \"python-doctr[torch]\""
   ]
  }
 ],
 "metadata": {
  "kernelspec": {
   "display_name": "Python 3",
   "language": "python",
   "name": "python3"
  },
  "language_info": {
   "codemirror_mode": {
    "name": "ipython",
    "version": 3
   },
   "file_extension": ".py",
   "mimetype": "text/x-python",
   "name": "python",
   "nbconvert_exporter": "python",
   "pygments_lexer": "ipython3",
   "version": "3.11.4"
  },
  "orig_nbformat": 4
 },
 "nbformat": 4,
 "nbformat_minor": 2
}
